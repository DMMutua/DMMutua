{
  "nbformat": 4,
  "nbformat_minor": 0,
  "metadata": {
    "colab": {
      "name": "Financials Downoading Template.ipynb",
      "provenance": [],
      "collapsed_sections": [],
      "authorship_tag": "ABX9TyMD0eb/9ORyOLC1A9OoNcwh",
      "include_colab_link": true
    },
    "kernelspec": {
      "name": "python3",
      "display_name": "Python 3"
    },
    "language_info": {
      "name": "python"
    }
  },
  "cells": [
    {
      "cell_type": "markdown",
      "metadata": {
        "id": "view-in-github",
        "colab_type": "text"
      },
      "source": [
        "<a href=\"https://colab.research.google.com/github/DMMutua/DMMutua/blob/main/Financials_Downoading_Template.ipynb\" target=\"_parent\"><img src=\"https://colab.research.google.com/assets/colab-badge.svg\" alt=\"Open In Colab\"/></a>"
      ]
    },
    {
      "cell_type": "markdown",
      "metadata": {
        "id": "8kgm8IFth0N3"
      },
      "source": [
        "In this Template, I use the `yahoo_fin` API to download Financial Data for REX INTERNATIONAL HOLDING LIMITED (5WH.SI). `Openpyxl` is used to convert and load downloaded data into a spreadsheet and `google_colab` library to download the spreadsheet.\n",
        "\n"
      ]
    },
    {
      "cell_type": "code",
      "metadata": {
        "id": "BY3-H5vIiOP_"
      },
      "source": [
        "!pip install yahoo_fin\n",
        "!pip install folium\n",
        "from yahoo_fin import stock_info as si\n"
      ],
      "execution_count": null,
      "outputs": []
    },
    {
      "cell_type": "markdown",
      "metadata": {
        "id": "naw_U06Cjitn"
      },
      "source": [
        "Get Quarterly Balance sheet for tesla Ticker TSLA"
      ]
    },
    {
      "cell_type": "code",
      "metadata": {
        "colab": {
          "base_uri": "https://localhost:8080/"
        },
        "id": "its3imrhjv7H",
        "outputId": "4d317ae6-9330-40df-ef3f-01f93d65f4d8"
      },
      "source": [
        "from yahoo_fin.stock_info import get_balance_sheet\n",
        "rex_bl_A = get_balance_sheet('5wh.si', yearly = True)\n",
        "print(rex_bl_A)"
      ],
      "execution_count": 6,
      "outputs": [
        {
          "output_type": "stream",
          "name": "stdout",
          "text": [
            "endDate                   2020-12-31   2019-12-31   2018-12-31   2017-12-31\n",
            "Breakdown                                                                  \n",
            "intangibleAssets           3365000.0    4215000.0    5065000.0    5915000.0\n",
            "totalLiab                 55441000.0   26407000.0   83066000.0   16456000.0\n",
            "totalStockholderEquity   127508000.0  140718000.0  118991000.0  118544000.0\n",
            "minorityInterest          12718000.0   13678000.0    6839000.0    6610000.0\n",
            "totalAssets              195667000.0  180803000.0  208896000.0  141610000.0\n",
            "commonStock              257677000.0  257590000.0  256324000.0  255758000.0\n",
            "retainedEarnings        -137092000.0 -122874000.0 -142884000.0 -144470000.0\n",
            "otherLiab                 14383000.0    2117000.0   52277000.0   13098000.0\n",
            "treasuryStock              6923000.0    6002000.0    5551000.0    7256000.0\n",
            "cash                      20375000.0   21930000.0    5305000.0   11700000.0\n",
            "totalCurrentLiabilities   40485000.0   23397000.0   30789000.0    3358000.0\n",
            "otherStockholderEquity     7639000.0    6718000.0    5551000.0    7256000.0\n",
            "propertyPlantEquipment   108802000.0   91355000.0  136130000.0   76976000.0\n",
            "totalCurrentAssets        83500000.0   85233000.0   67701000.0   57613000.0\n",
            "netTangibleAssets        124143000.0  136503000.0  113926000.0  112629000.0\n",
            "shortTermInvestments        280000.0     111000.0     108000.0     111000.0\n",
            "netReceivables            36181000.0   22902000.0   30832000.0    8985000.0\n",
            "accountsPayable            7218000.0    1735000.0      15000.0      23000.0\n",
            "inventory                        NaN          NaN    2304000.0    2810000.0\n",
            "otherCurrentLiab                 NaN          NaN          NaN      80000.0\n",
            "longTermInvestments              NaN          NaN          NaN    1106000.0\n"
          ]
        }
      ]
    },
    {
      "cell_type": "markdown",
      "metadata": {
        "id": "mUlIfYRGk7jH"
      },
      "source": [
        "Get Annual Balance sheet for Tesla."
      ]
    },
    {
      "cell_type": "markdown",
      "metadata": {
        "id": "uNcQKQKsmQII"
      },
      "source": [
        "Getting both Quarterly and Annual cashflows for Tesla."
      ]
    },
    {
      "cell_type": "code",
      "metadata": {
        "colab": {
          "base_uri": "https://localhost:8080/"
        },
        "id": "tLPssfednhQt",
        "outputId": "3f19818f-8410-4d8c-aace-24397a0d3c6c"
      },
      "source": [
        "from yahoo_fin.stock_info import get_cash_flow\n",
        "rex_cf_A = get_cash_flow('5wh.si', yearly=True)\n",
        "print(rex_cf_A)\n"
      ],
      "execution_count": 7,
      "outputs": [
        {
          "output_type": "stream",
          "name": "stdout",
          "text": [
            "endDate                                2020-12-31  ...  2017-12-31\n",
            "Breakdown                                          ...            \n",
            "investments                            12985000.0  ...   -755000.0\n",
            "changeToLiabilities                    14839000.0  ...    418000.0\n",
            "totalCashflowsFromInvestingActivities -25592000.0  ... -19989000.0\n",
            "netBorrowings                           1005000.0  ... -13505000.0\n",
            "totalCashFromFinancingActivities         622000.0  ... -14323000.0\n",
            "netIncome                             -14218000.0  ...  -8524000.0\n",
            "changeInCash                           -1555000.0  ... -21540000.0\n",
            "effectOfExchangeRate                    -821000.0  ...   1507000.0\n",
            "totalCashFromOperatingActivities       24236000.0  ...  11265000.0\n",
            "depreciation                           23221000.0  ...   3463000.0\n",
            "otherCashflowsFromInvestingActivities    777000.0  ...   1012000.0\n",
            "changeToAccountReceivables            -14072000.0  ...  -1911000.0\n",
            "otherCashflowsFromFinancingActivities   -383000.0  ...   -818000.0\n",
            "changeToNetincome                      14466000.0  ...  17441000.0\n",
            "capitalExpenditures                   -39355000.0  ... -20246000.0\n",
            "repurchaseOfStock                             NaN  ...   -716000.0\n",
            "changeToInventory                             NaN  ...    378000.0\n",
            "\n",
            "[17 rows x 4 columns]\n"
          ]
        }
      ]
    },
    {
      "cell_type": "markdown",
      "metadata": {
        "id": "_x_E9w28ok82"
      },
      "source": [
        "Get Annual and Quarterly Income Statement."
      ]
    },
    {
      "cell_type": "code",
      "metadata": {
        "colab": {
          "base_uri": "https://localhost:8080/"
        },
        "id": "tt794xxootKv",
        "outputId": "f079dd44-4283-46ee-b964-3f9919b63e51"
      },
      "source": [
        "from yahoo_fin.stock_info import get_income_statement\n",
        "rex_is_A = get_income_statement('5wh.si')\n",
        "print(rex_is_A) \n"
      ],
      "execution_count": 12,
      "outputs": [
        {
          "output_type": "stream",
          "name": "stdout",
          "text": [
            "endDate                           2020-12-31 2019-12-31 2018-12-31 2017-12-31\n",
            "Breakdown                                                                    \n",
            "researchDevelopment                     None       None       None       None\n",
            "effectOfAccountingCharges               None       None       None       None\n",
            "incomeBeforeTax                    -20114000   15499000   13043000  -15408000\n",
            "minorityInterest                    12718000   13678000    6839000    6610000\n",
            "netIncome                          -14218000   19401000    1143000   -8524000\n",
            "sellingGeneralAdministrative        15291000   17147000   10522000   11265000\n",
            "grossProfit                         22183000    -448000    -691000     126000\n",
            "ebit                               -19628000  -15536000   14516000  -13803000\n",
            "operatingIncome                    -19628000  -15536000   14516000  -13803000\n",
            "otherOperatingExpenses               3529000   -3742000     440000    -499000\n",
            "interestExpense                       -30000     -36000     -36000     -36000\n",
            "extraordinaryItems                      None       None       None       None\n",
            "nonRecurring                            None       None       None       None\n",
            "otherItems                              None       None       None       None\n",
            "incomeTaxExpense                    -4902000   -6730000   11014000   -6477000\n",
            "totalRevenue                        46664000     135000     407000     356000\n",
            "totalOperatingExpenses              66292000   15671000  -14109000   14159000\n",
            "costOfRevenue                       24481000     583000    1098000     230000\n",
            "totalOtherIncomeExpenseNet           -486000   31035000   -1473000   -1605000\n",
            "discontinuedOperations                  None       None       None       None\n",
            "netIncomeFromContinuingOps         -15212000   22229000    2029000   -8931000\n",
            "netIncomeApplicableToCommonShares  -14218000   19401000    1143000   -8524000\n"
          ]
        }
      ]
    },
    {
      "cell_type": "markdown",
      "metadata": {
        "id": "5B2A_BMYYa9K"
      },
      "source": [
        "Summary of the Steps using Less Code;"
      ]
    },
    {
      "cell_type": "code",
      "metadata": {
        "id": "QMvaFBuhYNxX"
      },
      "source": [
        "\n",
        "from yahoo_fin.stock_info import get_balance_sheet \n",
        "from yahoo_fin.stock_info import get_income_statement\n",
        "from yahoo_fin.stock_info import get_cash_flow\n",
        "\n",
        "rex_bl, rex_is, rex_cf = get_balance_sheet('5wh.si'), get_income_statement('5wh.si'), get_cash_flow('5wh.si')\n"
      ],
      "execution_count": 11,
      "outputs": []
    },
    {
      "cell_type": "markdown",
      "metadata": {
        "id": "GRU3SHo3Z49_"
      },
      "source": [
        "Using the OpenpyXl and Pandas Library to load data into an excel sheet"
      ]
    },
    {
      "cell_type": "code",
      "metadata": {
        "colab": {
          "base_uri": "https://localhost:8080/"
        },
        "id": "80XZAoLFaE62",
        "outputId": "c8eb8e43-a306-49bc-ea4a-393415110337"
      },
      "source": [
        "! pip install Openpyxl\n"
      ],
      "execution_count": 9,
      "outputs": [
        {
          "output_type": "stream",
          "name": "stdout",
          "text": [
            "Requirement already satisfied: Openpyxl in /usr/local/lib/python3.7/dist-packages (2.5.9)\n",
            "Requirement already satisfied: et-xmlfile in /usr/local/lib/python3.7/dist-packages (from Openpyxl) (1.1.0)\n",
            "Requirement already satisfied: jdcal in /usr/local/lib/python3.7/dist-packages (from Openpyxl) (1.4.1)\n"
          ]
        }
      ]
    },
    {
      "cell_type": "code",
      "metadata": {
        "id": "CdEnQa-WaR-w"
      },
      "source": [
        "#Creating a new workbook with three sheets\n",
        "from openpyxl import Workbook\n",
        "evt_wb  = Workbook()\n",
        "ws1 = evt_wb.create_sheet(\"Balance Sheet\", 0)\n",
        "ws2 = evt_wb.create_sheet(\"Income Statement\", 1)\n",
        "ws3 = evt_wb.create_sheet(\"Cash Flow\", 2)\n",
        "\n"
      ],
      "execution_count": 14,
      "outputs": []
    },
    {
      "cell_type": "markdown",
      "source": [
        "Loading the Pandas DataFrames into a Worksheet;"
      ],
      "metadata": {
        "id": "VwobVlJszuk-"
      }
    },
    {
      "cell_type": "code",
      "metadata": {
        "id": "AurMYP9zcP8K"
      },
      "source": [
        "\n",
        "from openpyxl.utils.dataframe import dataframe_to_rows\n",
        "\n",
        "for r in dataframe_to_rows(rex_bl, index=True, header=True):\n",
        "    ws1.append(r)\n",
        "for b in dataframe_to_rows(rex_is, index=True, header=True):\n",
        "  ws2.append(b)\n",
        "for a in dataframe_to_rows(rex_cf, index=True, header=True):\n",
        "  ws3.append(a)\n",
        "\n",
        "\n",
        "#saving workbook\n",
        "evt_wb.save('Rex International Fin data.xls')"
      ],
      "execution_count": 13,
      "outputs": []
    },
    {
      "cell_type": "markdown",
      "metadata": {
        "id": "AQs_N3YGfszR"
      },
      "source": [
        "Downloading the Workbook;"
      ]
    },
    {
      "cell_type": "code",
      "metadata": {
        "colab": {
          "base_uri": "https://localhost:8080/",
          "height": 17
        },
        "id": "erM_-mRAfS4u",
        "outputId": "7e2178cf-a6a4-41f5-8679-c8780d3e06d2"
      },
      "source": [
        "from google.colab import files\n",
        "files.download('Rex International Fin data.xls')\n"
      ],
      "execution_count": 15,
      "outputs": [
        {
          "output_type": "display_data",
          "data": {
            "application/javascript": [
              "\n",
              "    async function download(id, filename, size) {\n",
              "      if (!google.colab.kernel.accessAllowed) {\n",
              "        return;\n",
              "      }\n",
              "      const div = document.createElement('div');\n",
              "      const label = document.createElement('label');\n",
              "      label.textContent = `Downloading \"${filename}\": `;\n",
              "      div.appendChild(label);\n",
              "      const progress = document.createElement('progress');\n",
              "      progress.max = size;\n",
              "      div.appendChild(progress);\n",
              "      document.body.appendChild(div);\n",
              "\n",
              "      const buffers = [];\n",
              "      let downloaded = 0;\n",
              "\n",
              "      const channel = await google.colab.kernel.comms.open(id);\n",
              "      // Send a message to notify the kernel that we're ready.\n",
              "      channel.send({})\n",
              "\n",
              "      for await (const message of channel.messages) {\n",
              "        // Send a message to notify the kernel that we're ready.\n",
              "        channel.send({})\n",
              "        if (message.buffers) {\n",
              "          for (const buffer of message.buffers) {\n",
              "            buffers.push(buffer);\n",
              "            downloaded += buffer.byteLength;\n",
              "            progress.value = downloaded;\n",
              "          }\n",
              "        }\n",
              "      }\n",
              "      const blob = new Blob(buffers, {type: 'application/binary'});\n",
              "      const a = document.createElement('a');\n",
              "      a.href = window.URL.createObjectURL(blob);\n",
              "      a.download = filename;\n",
              "      div.appendChild(a);\n",
              "      a.click();\n",
              "      div.remove();\n",
              "    }\n",
              "  "
            ],
            "text/plain": [
              "<IPython.core.display.Javascript object>"
            ]
          },
          "metadata": {}
        },
        {
          "output_type": "display_data",
          "data": {
            "application/javascript": [
              "download(\"download_98e40668-6011-4536-9e89-b07cb636672d\", \"Rex International Fin data.xls\", 8816)"
            ],
            "text/plain": [
              "<IPython.core.display.Javascript object>"
            ]
          },
          "metadata": {}
        }
      ]
    }
  ]
}