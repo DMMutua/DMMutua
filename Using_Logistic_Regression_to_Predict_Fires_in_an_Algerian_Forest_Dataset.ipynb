{
  "nbformat": 4,
  "nbformat_minor": 0,
  "metadata": {
    "colab": {
      "name": "Using Logistic Regression to Predict Fires in an Algerian Forest Dataset",
      "provenance": [],
      "collapsed_sections": [],
      "authorship_tag": "ABX9TyMffvp/WN+lUy567hQGIAvI",
      "include_colab_link": true
    },
    "kernelspec": {
      "name": "python3",
      "display_name": "Python 3"
    },
    "language_info": {
      "name": "python"
    }
  },
  "cells": [
    {
      "cell_type": "markdown",
      "metadata": {
        "id": "view-in-github",
        "colab_type": "text"
      },
      "source": [
        "<a href=\"https://colab.research.google.com/github/DMMutua/DMMutua/blob/main/Using_Logistic_Regression_to_Predict_Fires_in_an_Algerian_Forest_Dataset.ipynb\" target=\"_parent\"><img src=\"https://colab.research.google.com/assets/colab-badge.svg\" alt=\"Open In Colab\"/></a>"
      ]
    },
    {
      "cell_type": "markdown",
      "source": [
        "  In this ```\n",
        "google.colab\n",
        "``` Notebook, I use an Algerian Dataset detailing forest fires in two Regions Only (Bejaia and Sidi Bel-abbes ) \n",
        "\n",
        " The data details components of the Fire Weather Index (FWI) and instances of Forest Fires each day from June 2012 to September 2022.\n",
        "\n",
        "  In particular, I use logistic regression for predictive analytics to investigate Trends in data that are more common when forest fires occur. \n",
        "\n",
        " Unfortunately, the binomial Logistic regression models build detected perfect separation on the data set. This means that there could not be results generated as more than one of the variables are distict in cases with fire or no fires in Algerian Forest. \n",
        " \n",
        " However, the notebook can be used as a guide to building a binomial logistic model for a different dataset."
      ],
      "metadata": {
        "id": "fuzw_FIglWA3"
      }
    },
    {
      "cell_type": "code",
      "source": [
        "#Loading the dataset\n",
        "from google.colab import files\n",
        "files.upload()\n"
      ],
      "metadata": {
        "colab": {
          "resources": {
            "http://localhost:8080/nbextensions/google.colab/files.js": {
              "data": "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",
              "ok": true,
              "headers": [
                [
                  "content-type",
                  "application/javascript"
                ]
              ],
              "status": 200,
              "status_text": ""
            }
          },
          "base_uri": "https://localhost:8080/",
          "height": 110
        },
        "id": "LgFxtKNulTBt",
        "outputId": "e02f1e41-8ffa-4627-8687-d3651aed4b5c"
      },
      "execution_count": null,
      "outputs": [
        {
          "output_type": "display_data",
          "data": {
            "text/html": [
              "\n",
              "     <input type=\"file\" id=\"files-6db092bf-27a5-4815-8256-7669860b7f07\" name=\"files[]\" multiple disabled\n",
              "        style=\"border:none\" />\n",
              "     <output id=\"result-6db092bf-27a5-4815-8256-7669860b7f07\">\n",
              "      Upload widget is only available when the cell has been executed in the\n",
              "      current browser session. Please rerun this cell to enable.\n",
              "      </output>\n",
              "      <script src=\"/nbextensions/google.colab/files.js\"></script> "
            ],
            "text/plain": [
              "<IPython.core.display.HTML object>"
            ]
          },
          "metadata": {}
        },
        {
          "output_type": "stream",
          "name": "stdout",
          "text": [
            "Saving Algerian_forest_fires_dataset.csv to Algerian_forest_fires_dataset.csv\n"
          ]
        },
        {
          "output_type": "execute_result",
          "data": {
            "text/plain": [
              "{'Algerian_forest_fires_dataset.csv': b'Index,Day,Month,Region,Temperature, RH, Ws,Rain ,FFMC,DMC,DC,ISI,BUI,FWI,Classes,Fire Instance\\r\\n1,1,June,Bejaia,29,57,18,0,65.7,3.4,7.6,1.3,3.4,0.5,not fire,0\\r\\n2,2,June,Bejaia,29,61,13,1.3,64.4,4.1,7.6,1,3.9,0.4,not fire,0\\r\\n3,3,June,Bejaia,26,82,22,13.1,47.1,2.5,7.1,0.3,2.7,0.1,not fire,0\\r\\n4,4,June,Bejaia,25,89,13,2.5,28.6,1.3,6.9,0,1.7,0,not fire,0\\r\\n5,5,June,Bejaia,27,77,16,0,64.8,3,14.2,1.2,3.9,0.5,not fire,0\\r\\n6,6,June,Bejaia,31,67,14,0,82.6,5.8,22.2,3.1,7,2.5,fire,1\\r\\n7,7,June,Bejaia,33,54,13,0,88.2,9.9,30.5,6.4,10.9,7.2,fire,1\\r\\n8,8,June,Bejaia,30,73,15,0,86.6,12.1,38.3,5.6,13.5,7.1,fire,1\\r\\n9,9,June,Bejaia,25,88,13,0.2,52.9,7.9,38.8,0.4,10.5,0.3,not fire,0\\r\\n10,10,June,Bejaia,28,79,12,0,73.2,9.5,46.3,1.3,12.6,0.9,not fire,0\\r\\n11,11,June,Bejaia,31,65,14,0,84.5,12.5,54.3,4,15.8,5.6,fire,1\\r\\n12,12,June,Bejaia,26,81,19,0,84,13.8,61.4,4.8,17.7,7.1,fire,1\\r\\n13,13,June,Bejaia,27,84,21,1.2,50,6.7,17,0.5,6.7,0.2,not fire,0\\r\\n14,14,June,Bejaia,30,78,20,0.5,59,4.6,7.8,1,4.4,0.4,not fire,0\\r\\n15,15,June,Bejaia,28,80,17,3.1,49.4,3,7.4,0.4,3,0.1,not fire,0\\r\\n16,16,June,Bejaia,29,89,13,0.7,36.1,1.7,7.6,0,2.2,0,not fire,0\\r\\n17,17,June,Bejaia,30,89,16,0.6,37.3,1.1,7.8,0,1.6,0,not fire,0\\r\\n18,18,June,Bejaia,31,78,14,0.3,56.9,1.9,8,0.7,2.4,0.2,not fire,0\\r\\n19,19,June,Bejaia,31,55,16,0.1,79.9,4.5,16,2.5,5.3,1.4,not fire,0\\r\\n20,20,June,Bejaia,30,80,16,0.4,59.8,3.4,27.1,0.9,5.1,0.4,not fire,0\\r\\n21,21,June,Bejaia,30,78,14,0,81,6.3,31.6,2.6,8.4,2.2,fire,1\\r\\n22,22,June,Bejaia,31,67,17,0.1,79.1,7,39.5,2.4,9.7,2.3,not fire,0\\r\\n23,23,June,Bejaia,32,62,18,0.1,81.4,8.2,47.7,3.3,11.5,3.8,fire,1\\r\\n24,24,June,Bejaia,32,66,17,0,85.9,11.2,55.8,5.6,14.9,7.5,fire,1\\r\\n25,25,June,Bejaia,31,64,15,0,86.7,14.2,63.8,5.7,18.3,8.4,fire,1\\r\\n26,26,June,Bejaia,31,64,18,0,86.8,17.8,71.8,6.7,21.6,10.6,fire,1\\r\\n27,27,June,Bejaia,34,53,18,0,89,21.6,80.3,9.2,25.8,15,fire,1\\r\\n28,28,June,Bejaia,32,55,14,0,89.1,25.5,88.5,7.6,29.7,13.9,fire,1\\r\\n29,29,June,Bejaia,32,47,13,0.3,79.9,18.4,84.4,2.2,23.8,3.9,not fire,0\\r\\n30,30,June,Bejaia,33,50,14,0,88.7,22.9,92.8,7.2,28.3,12.9,fire,1\\r\\n31,1,July,Bejaia,29,68,19,1,59.9,2.5,8.6,1.1,2.9,0.4,not fire,0\\r\\n32,2,July,Bejaia,27,75,19,1.2,55.7,2.4,8.3,0.8,2.8,0.3,not fire,0\\r\\n33,3,July,Bejaia,32,76,20,0.7,63.1,2.6,9.2,1.3,3,0.5,not fire,0\\r\\n34,4,July,Bejaia,33,78,17,0,80.1,4.6,18.5,2.7,5.7,1.7,not fire,0\\r\\n35,5,July,Bejaia,33,66,14,0,85.9,7.6,27.9,4.8,9.1,4.9,fire,1\\r\\n36,6,July,Bejaia,32,63,14,0,87,10.9,37,5.6,12.5,6.8,fire,1\\r\\n37,7,July,Bejaia,35,64,18,0.2,80,9.7,40.4,2.8,12.1,3.2,not fire,0\\r\\n38,8,July,Bejaia,33,68,19,0,85.6,12.5,49.8,6,15.4,8,fire,1\\r\\n39,9,July,Bejaia,32,68,14,1.4,66.6,7.7,9.2,1.1,7.4,0.6,not fire,0\\r\\n40,10,July,Bejaia,33,69,13,0.7,66.6,6,9.3,1.1,5.8,0.5,not fire,0\\r\\n41,11,July,Bejaia,33,76,14,0,81.1,8.1,18.7,2.6,8.1,2.2,not fire,0\\r\\n42,12,July,Bejaia,31,75,13,0.1,75.1,7.9,27.7,1.5,9.2,0.9,not fire,0\\r\\n43,13,July,Bejaia,34,81,15,0,81.8,9.7,37.2,3,11.7,3.4,not fire,0\\r\\n44,14,July,Bejaia,34,61,13,0.6,73.9,7.8,22.9,1.4,8.4,0.8,not fire,0\\r\\n45,15,July,Bejaia,30,80,19,0.4,60.7,5.2,17,1.1,5.9,0.5,not fire,0\\r\\n46,16,July,Bejaia,28,76,21,0,72.6,7,25.5,0.7,8.3,0.4,not fire,0\\r\\n47,17,July,Bejaia,29,70,14,0,82.8,9.4,34.1,3.2,11.1,3.6,fire,1\\r\\n48,18,July,Bejaia,31,68,14,0,85.4,12.1,43.1,4.6,14.2,6,fire,1\\r\\n49,19,July,Bejaia,35,59,17,0,88.1,12,52.8,7.7,18.2,10.9,fire,1\\r\\n50,20,July,Bejaia,33,65,15,0.1,81.4,12.3,62.1,2.8,16.5,4,fire,1\\r\\n51,21,July,Bejaia,33,70,17,0,85.4,18.5,71.5,5.2,22.4,8.8,fire,1\\r\\n52,22,July,Bejaia,28,79,18,0.1,73.4,16.4,79.9,1.8,21.7,2.8,not fire,0\\r\\n53,23,July,Bejaia,27,66,22,0.4,68.2,10.5,71.3,1.8,15.4,2.1,not fire,0\\r\\n54,24,July,Bejaia,28,78,16,0.1,70,9.6,79.7,1.4,14.7,1.3,not fire,0\\r\\n55,25,July,Bejaia,31,65,18,0,84.3,12.5,88.7,4.8,18.5,7.3,fire,1\\r\\n56,26,July,Bejaia,36,53,19,0,89.2,17.1,98.6,10,23.9,15.3,fire,1\\r\\n57,27,July,Bejaia,36,48,13,0,90.3,22.2,108.5,8.7,29.4,15.3,fire,1\\r\\n58,28,July,Bejaia,33,76,15,0,86.5,24.4,117.8,5.6,32.1,11.3,fire,1\\r\\n59,29,July,Bejaia,32,73,15,0,86.6,26.7,127,5.6,35,11.9,fire,1\\r\\n60,30,July,Bejaia,31,79,15,0,85.4,28.5,136,4.7,37.4,10.7,fire,1\\r\\n61,31,July,Bejaia,35,64,17,0,87.2,31.9,145.7,6.8,41.2,15.7,fire,1\\r\\n62,1,August,Bejaia,36,45,14,0,78.8,4.8,10.2,2,4.7,0.9,not fire,0\\r\\n63,2,August,Bejaia,35,55,12,0.4,78,5.8,10,1.7,5.5,0.8,not fire,0\\r\\n64,3,August,Bejaia,35,63,14,0.3,76.6,5.7,10,1.7,5.5,0.8,not fire,0\\r\\n65,4,August,Bejaia,34,69,13,0,85,8.2,19.8,4,8.2,3.9,fire,1\\r\\n66,5,August,Bejaia,34,65,13,0,86.8,11.1,29.7,5.2,11.5,6.1,fire,1\\r\\n67,6,August,Bejaia,32,75,14,0,86.4,13,39.1,5.2,14.2,6.8,fire,1\\r\\n68,7,August,Bejaia,32,69,16,0,86.5,15.5,48.6,5.5,17.2,8,fire,1\\r\\n69,8,August,Bejaia,32,60,18,0.3,77.1,11.3,47,2.2,14.1,2.6,not fire,0\\r\\n70,9,August,Bejaia,35,59,17,0,87.4,14.8,57,6.9,17.9,9.9,fire,1\\r\\n71,10,August,Bejaia,35,55,14,0,88.9,18.6,67,7.4,21.9,11.6,fire,1\\r\\n72,11,August,Bejaia,35,63,13,0,88.9,21.7,77,7.1,25.5,12.1,fire,1\\r\\n73,12,August,Bejaia,35,51,13,0.3,81.3,15.6,75.1,2.5,20.7,4.2,not fire,0\\r\\n74,13,August,Bejaia,35,63,15,0,87,19,85.1,5.9,24.4,10.2,fire,1\\r\\n75,14,August,Bejaia,33,66,14,0,87,21.7,94.7,5.7,27.2,10.6,fire,1\\r\\n76,15,August,Bejaia,36,55,13,0.3,82.4,15.6,92.5,3.7,22,6.3,fire,1\\r\\n77,16,August,Bejaia,36,61,18,0.3,80.2,11.7,90.4,2.8,17.6,4.2,fire,1\\r\\n78,17,August,Bejaia,37,52,18,0,89.3,16,100.7,9.7,22.9,14.6,fire,1\\r\\n79,18,August,Bejaia,36,54,18,0,89.4,20,110.9,9.7,27.5,16.1,fire,1\\r\\n80,19,August,Bejaia,35,62,19,0,89.4,23.2,120.9,9.7,31.3,17.2,fire,1\\r\\n81,20,August,Bejaia,35,68,19,0,88.3,25.9,130.6,8.8,34.7,16.8,fire,1\\r\\n82,21,August,Bejaia,36,58,19,0,88.6,29.6,141.1,9.2,38.8,18.4,fire,1\\r\\n83,22,August,Bejaia,36,55,18,0,89.1,33.5,151.3,9.9,43.1,20.4,fire,1\\r\\n84,23,August,Bejaia,36,53,16,0,89.5,37.6,161.5,10.4,47.5,22.3,fire,1\\r\\n85,24,August,Bejaia,34,64,14,0,88.9,40.5,171.3,9,50.9,20.9,fire,1\\r\\n86,25,August,Bejaia,35,60,15,0,88.9,43.9,181.3,8.2,54.7,20.3,fire,1\\r\\n87,26,August,Bejaia,31,78,18,0,85.8,45.6,190.6,4.7,57.1,13.7,fire,1\\r\\n88,27,August,Bejaia,33,82,21,0,84.9,47,200.2,4.4,59.3,13.2,fire,1\\r\\n89,28,August,Bejaia,34,64,16,0,89.4,50.2,210.4,7.3,62.9,19.9,fire,1\\r\\n90,29,August,Bejaia,35,48,18,0,90.1,54.2,220.4,12.5,67.4,30.2,fire,1\\r\\n91,30,August,Bejaia,35,70,17,0.8,72.7,25.2,180.4,1.7,37.4,4.2,not fire,0\\r\\n92,31,August,Bejaia,28,80,21,16.8,52.5,8.7,8.7,0.6,8.3,0.3,not fire,0\\r\\n93,1,September,Bejaia,25,76,17,7.2,46,1.3,7.5,0.2,1.8,0.1,not fire,0\\r\\n94,2,September,Bejaia,22,86,15,10.1,30.5,0.7,7,0,1.1,0,not fire,0\\r\\n95,3,September,Bejaia,25,78,15,3.8,42.6,1.2,7.5,0.1,1.7,0,not fire,0\\r\\n96,4,September,Bejaia,29,73,17,0.1,68.4,1.9,15.7,1.4,2.9,0.5,not fire,0\\r\\n97,5,September,Bejaia,29,75,16,0,80.8,3.4,24,2.8,5.1,1.7,fire,1\\r\\n98,6,September,Bejaia,29,74,19,0.1,75.8,3.6,32.2,2.1,5.6,0.9,not fire,0\\r\\n99,7,September,Bejaia,31,71,17,0.3,69.6,3.2,30.1,1.5,5.1,0.6,not fire,0\\r\\n100,8,September,Bejaia,30,73,17,0.9,62,2.6,8.4,1.1,3,0.4,not fire,0\\r\\n101,9,September,Bejaia,30,77,15,1,56.1,2.1,8.4,0.7,2.6,0.2,not fire,0\\r\\n102,10,September,Bejaia,33,73,12,1.8,59.9,2.2,8.9,0.7,2.7,0.3,not fire,0\\r\\n103,11,September,Bejaia,30,77,21,1.8,58.5,1.9,8.4,1.1,2.4,0.3,not fire,0\\r\\n104,12,September,Bejaia,29,88,13,0,71,2.6,16.6,1.2,3.7,0.5,not fire,0\\r\\n105,13,September,Bejaia,25,86,21,4.6,40.9,1.3,7.5,0.1,1.8,0,not fire,0\\r\\n106,14,September,Bejaia,22,76,26,8.3,47.4,1.1,7,0.4,1.6,0.1,not fire,0\\r\\n107,15,September,Bejaia,24,82,15,0.4,44.9,0.9,7.3,0.2,1.4,0,not fire,0\\r\\n108,16,September,Bejaia,30,65,14,0,78.1,3.2,15.7,1.9,4.2,0.8,not fire,0\\r\\n109,17,September,Bejaia,31,52,14,0,87.7,6.4,24.3,6.2,7.7,5.9,fire,1\\r\\n110,18,September,Bejaia,32,49,11,0,89.4,9.8,33.1,6.8,11.3,7.7,fire,1\\r\\n111,19,September,Bejaia,29,57,14,0,89.3,12.5,41.3,7.8,14.2,9.7,fire,1\\r\\n112,20,September,Bejaia,28,84,18,0,83.8,13.5,49.3,4.5,16,6.3,fire,1\\r\\n113,21,September,Bejaia,31,55,11,0,87.8,16.5,57.9,5.4,19.2,8.3,fire,1\\r\\n114,22,September,Bejaia,31,50,19,0.6,77.8,10.6,41.4,2.4,12.9,2.8,not fire,0\\r\\n115,23,September,Bejaia,32,54,11,0.5,73.7,7.9,30.4,1.2,9.6,0.7,not fire,0\\r\\n116,24,September,Bejaia,29,65,19,0.6,68.3,5.5,15.2,1.5,5.8,0.7,not fire,0\\r\\n117,25,September,Bejaia,26,81,21,5.8,48.6,3,7.7,0.4,3,0.1,not fire,0\\r\\n118,26,September,Bejaia,31,54,11,0,82,6,16.3,2.5,6.2,1.7,not fire,0\\r\\n119,27,September,Bejaia,31,66,11,0,85.7,8.3,24.9,4,9,4.1,fire,1\\r\\n120,28,September,Bejaia,32,47,14,0.7,77.5,7.1,8.8,1.8,6.8,0.9,not fire,0\\r\\n121,29,September,Bejaia,26,80,16,1.8,47.4,2.9,7.7,0.3,3,0.1,not fire,0\\r\\n122,30,September,Bejaia,25,78,14,1.4,45,1.9,7.5,0.2,2.4,0.1,not fire,0\\r\\n123,1,June,Sidi-Bel Abbes,32,71,12,0.7,57.1,2.5,8.2,0.6,2.8,0.2,not fire,0\\r\\n124,2,June,Sidi-Bel Abbes,30,73,13,4,55.7,2.7,7.8,0.6,2.9,0.2,not fire,0\\r\\n125,3,June,Sidi-Bel Abbes,29,80,14,2,48.7,2.2,7.6,0.3,2.6,0.1,not fire,0\\r\\n126,4,June,Sidi-Bel Abbes,30,64,14,0,79.4,5.2,15.4,2.2,5.6,1,not fire,0\\r\\n127,5,June,Sidi-Bel Abbes,32,60,14,0.2,77.1,6,17.6,1.8,6.5,0.9,not fire,0\\r\\n128,6,June,Sidi-Bel Abbes,35,54,11,0.1,83.7,8.4,26.3,3.1,9.3,3.1,fire,1\\r\\n129,7,June,Sidi-Bel Abbes,35,44,17,0.2,85.6,9.9,28.9,5.4,10.7,6,fire,1\\r\\n130,8,June,Sidi-Bel Abbes,28,51,17,1.3,71.4,7.7,7.4,1.5,7.3,0.8,not fire,0\\r\\n131,9,June,Sidi-Bel Abbes,27,59,18,0.1,78.1,8.5,14.7,2.4,8.3,1.9,not fire,0\\r\\n132,10,June,Sidi-Bel Abbes,30,41,15,0,89.4,13.3,22.5,8.4,13.1,10,fire,1\\r\\n133,11,June,Sidi-Bel Abbes,31,42,21,0,90.6,18.2,30.5,13.4,18,16.7,fire,1\\r\\n134,12,June,Sidi-Bel Abbes,27,58,17,0,88.9,21.3,37.8,8.7,21.2,12.9,fire,1\\r\\n135,13,June,Sidi-Bel Abbes,30,52,15,2,72.3,11.4,7.8,1.4,10.9,0.9,not fire,0\\r\\n136,14,June,Sidi-Bel Abbes,27,79,16,0.7,53.4,6.4,7.3,0.5,6.1,0.3,not fire,0\\r\\n137,15,June,Sidi-Bel Abbes,28,90,15,0,66.8,7.2,14.7,1.2,7.1,0.6,not fire,0\\r\\n138,16,June,Sidi-Bel Abbes,29,87,15,0.4,47.4,4.2,8,0.2,4.1,0.1,not fire,0\\r\\n139,17,June,Sidi-Bel Abbes,31,69,17,4.7,62.2,3.9,8,1.1,3.8,0.4,not fire,0\\r\\n140,18,June,Sidi-Bel Abbes,33,62,10,8.7,65.5,4.6,8.3,0.9,4.4,0.4,not fire,0\\r\\n141,19,June,Sidi-Bel Abbes,32,67,14,4.5,64.6,4.4,8.2,1,4.2,0.4,not fire,0\\r\\n142,20,June,Sidi-Bel Abbes,31,72,14,0.2,60.2,3.8,8,0.8,3.7,0.3,not fire,0\\r\\n143,21,June,Sidi-Bel Abbes,32,55,14,0,86.2,8.3,18.4,5,8.2,4.9,fire,1\\r\\n144,22,June,Sidi-Bel Abbes,33,46,14,1.1,78.3,8.1,8.3,1.9,7.7,1.2,not fire,0\\r\\n145,23,June,Sidi-Bel Abbes,33,59,16,0.8,74.2,7,8.3,1.6,6.7,0.8,not fire,0\\r\\n146,24,June,Sidi-Bel Abbes,35,68,16,0,85.3,10,17,4.9,9.9,5.3,fire,1\\r\\n147,25,June,Sidi-Bel Abbes,34,70,16,0,86,12.8,25.6,5.4,12.7,6.7,fire,1\\r\\n148,26,June,Sidi-Bel Abbes,36,62,16,0,87.8,16.5,34.5,7,16.4,9.5,fire,1\\r\\n149,27,June,Sidi-Bel Abbes,36,55,15,0,89.1,20.9,43.3,8,20.8,12,fire,1\\r\\n150,28,June,Sidi-Bel Abbes,37,37,13,0,92.5,27.2,52.4,11.7,27.1,18.4,fire,1\\r\\n151,29,June,Sidi-Bel Abbes,37,36,13,0.6,86.2,17.9,36.7,4.8,17.8,7.2,fire,1\\r\\n152,30,June,Sidi-Bel Abbes,34,42,15,1.7,79.7,12,8.5,2.2,11.5,2.2,not fire,0\\r\\n153,1,July,Sidi-Bel Abbes,28,58,18,2.2,63.7,3.2,8.5,1.2,3.3,0.5,not fire,0\\r\\n154,2,July,Sidi-Bel Abbes,33,48,16,0,87.6,7.9,17.8,6.8,7.8,6.4,fire,1\\r\\n155,3,July,Sidi-Bel Abbes,34,56,17,0.1,84.7,9.7,27.3,4.7,10.3,5.2,fire,1\\r\\n156,4,July,Sidi-Bel Abbes,34,58,18,0,88,13.6,36.8,8,14.1,9.9,fire,1\\r\\n157,5,July,Sidi-Bel Abbes,34,45,18,0,90.5,18.7,46.4,11.3,18.7,15,fire,1\\r\\n158,6,July,Sidi-Bel Abbes,35,42,15,0.3,84.7,15.5,45.1,4.3,16.7,6.3,fire,1\\r\\n159,7,July,Sidi-Bel Abbes,38,43,13,0.5,85,13,35.4,4.1,13.7,5.2,fire,1\\r\\n160,8,July,Sidi-Bel Abbes,35,47,18,6,80.8,9.8,9.7,3.1,9.4,3,fire,1\\r\\n161,9,July,Sidi-Bel Abbes,36,43,15,1.9,82.3,9.4,9.9,3.2,9,3.1,fire,1\\r\\n162,10,July,Sidi-Bel Abbes,34,51,16,3.8,77.5,8,9.5,2,7.7,1.3,not fire,0\\r\\n163,11,July,Sidi-Bel Abbes,34,56,15,2.9,74.8,7.1,9.5,1.6,6.8,0.8,not fire,0\\r\\n164,12,July,Sidi-Bel Abbes,36,44,13,0,90.1,12.6,19.4,8.3,12.5,9.6,fire,1\\r\\n165,13,July,Sidi-Bel Abbes,39,45,13,0.6,85.2,11.3,10.4,4.2,10.9,4.7,fire,1\\r\\n166,14,July,Sidi-Bel Abbes,37,37,18,0.2,88.9,12.9,14.6,9,12.5,10.4,fire,1\\r\\n167,15,July,Sidi-Bel Abbes,34,45,17,0,90.5,18,24.1,10.9,17.7,14.1,fire,1\\r\\n168,16,July,Sidi-Bel Abbes,31,83,17,0,84.5,19.4,33.1,4.7,19.2,7.3,fire,1\\r\\n169,17,July,Sidi-Bel Abbes,32,81,17,0,84.6,21.1,42.3,4.7,20.9,7.7,fire,1\\r\\n170,18,July,Sidi-Bel Abbes,33,68,15,0,86.1,23.9,51.6,5.2,23.9,9.1,fire,1\\r\\n171,19,July,Sidi-Bel Abbes,34,58,16,0,88.1,27.8,61.1,7.3,27.7,13,fire,1\\r\\n172,20,July,Sidi-Bel Abbes,36,50,16,0,89.9,32.7,71,9.5,32.6,17.3,fire,1\\r\\n173,21,July,Sidi-Bel Abbes,36,29,18,0,93.9,39.6,80.6,18.5,39.5,30,fire,1\\r\\n174,22,July,Sidi-Bel Abbes,32,48,18,0,91.5,44.2,90.1,13.2,44,25.4,fire,1\\r\\n175,23,July,Sidi-Bel Abbes,31,71,17,0,87.3,46.6,99,6.9,46.5,16.3,fire,1\\r\\n176,24,July,Sidi-Bel Abbes,33,63,17,1.1,72.8,20.9,56.6,1.6,21.7,2.5,not fire,0\\r\\n177,25,July,Sidi-Bel Abbes,39,64,9,1.2,73.8,11.7,15.9,1.1,11.4,0.7,not fire,0\\r\\n178,26,July,Sidi-Bel Abbes,35,58,10,0.2,78.3,10.8,19.7,1.6,10.7,1,not fire,0\\r\\n179,27,July,Sidi-Bel Abbes,29,87,18,0,80,11.8,28.3,2.8,11.8,3.2,not fire,0\\r\\n180,28,July,Sidi-Bel Abbes,33,57,16,0,87.5,15.7,37.6,6.7,15.7,9,fire,1\\r\\n181,29,July,Sidi-Bel Abbes,34,59,16,0,88.1,19.5,47.2,7.4,19.5,10.9,fire,1\\r\\n182,30,July,Sidi-Bel Abbes,36,56,16,0,88.9,23.8,57.1,8.2,23.8,13.2,fire,1\\r\\n183,31,July,Sidi-Bel Abbes,37,55,15,0,89.3,28.3,67.2,8.3,28.3,14.5,fire,1\\r\\n184,1,August,Sidi-Bel Abbes,38,52,14,0,78.3,4.4,10.5,2,4.4,0.8,not fire,0\\r\\n185,2,August,Sidi-Bel Abbes,40,34,14,0,93.3,10.8,21.4,13.8,10.6,13.5,fire,1\\r\\n186,3,August,Sidi-Bel Abbes,39,33,17,0,93.7,17.1,32.1,17.2,16.9,19.5,fire,1\\r\\n187,4,August,Sidi-Bel Abbes,38,35,15,0,93.8,23,42.7,15.7,22.9,20.9,fire,1\\r\\n188,5,August,Sidi-Bel Abbes,34,42,17,0.1,88.3,23.6,52.5,19,23.5,12.6,fire,1\\r\\n189,6,August,Sidi-Bel Abbes,30,54,14,3.1,70.5,11,9.1,1.3,10.5,0.8,not fire,0\\r\\n190,7,August,Sidi-Bel Abbes,34,63,13,2.9,69.7,7.2,9.8,1.2,6.9,0.6,not fire,0\\r\\n191,8,August,Sidi-Bel Abbes,37,56,11,0,87.4,11.2,20.2,5.2,11,5.9,fire,1\\r\\n192,9,August,Sidi-Bel Abbes,39,43,12,0,91.7,16.5,30.9,9.6,16.4,12.7,fire,1\\r\\n193,10,August,Sidi-Bel Abbes,39,39,15,0.2,89.3,15.8,35.4,8.2,15.8,10.7,fire,1\\r\\n194,11,August,Sidi-Bel Abbes,40,31,15,0,94.2,22.5,46.3,16.6,22.4,21.6,fire,1\\r\\n195,12,August,Sidi-Bel Abbes,39,21,17,0.4,93,18.4,41.5,15.5,18.4,18.8,fire,1\\r\\n196,13,August,Sidi-Bel Abbes,35,34,16,0.2,88.3,16.9,45.1,7.5,17.5,10.5,fire,1\\r\\n197,14,August,Sidi-Bel Abbes,37,40,13,0,91.9,22.3,55.5,10.8,22.3,15.7,fire,1\\r\\n198,15,August,Sidi-Bel Abbes,35,46,13,0.3,83.9,16.9,54.2,3.5,19,5.5,fire,1\\r\\n199,16,August,Sidi-Bel Abbes,40,41,10,0.1,92,22.6,65.1,9.5,24.2,14.8,fire,1\\r\\n200,17,August,Sidi-Bel Abbes,42,24,9,0,96,30.3,76.4,15.7,30.4,24,fire,1\\r\\n201,18,August,Sidi-Bel Abbes,37,37,14,0,94.3,35.9,86.8,16,35.9,26.3,fire,1\\r\\n202,19,August,Sidi-Bel Abbes,35,66,15,0.1,82.7,32.7,96.8,3.3,35.5,7.7,fire,1\\r\\n203,20,August,Sidi-Bel Abbes,36,81,15,0,83.7,34.4,107,3.8,38.1,9,fire,1\\r\\n204,21,August,Sidi-Bel Abbes,36,71,15,0,86,36.9,117.1,5.1,41.3,12.2,fire,1\\r\\n205,22,August,Sidi-Bel Abbes,37,53,14,0,89.5,41.1,127.5,8,45.5,18.1,fire,1\\r\\n206,23,August,Sidi-Bel Abbes,36,43,16,0,91.2,46.1,137.7,11.5,50.2,24.5,fire,1\\r\\n207,24,August,Sidi-Bel Abbes,35,38,15,0,92.1,51.3,147.7,12.2,54.9,26.9,fire,1\\r\\n208,25,August,Sidi-Bel Abbes,34,40,18,0,92.1,56.3,157.5,14.3,59.5,31.1,fire,1\\r\\n209,26,August,Sidi-Bel Abbes,33,37,16,0,92.2,61.3,167.2,13.1,64,30.3,fire,1\\r\\n210,27,August,Sidi-Bel Abbes,36,54,14,0,91,65.9,177.3,10,68,26.1,fire,1\\r\\n211,28,August,Sidi-Bel Abbes,35,56,14,0.4,79.2,37,166,2.1,30.6,6.1,not fire,0\\r\\n212,29,August,Sidi-Bel Abbes,35,53,17,0.5,80.2,20.7,149.2,2.7,30.6,5.9,fire,1\\r\\n213,30,August,Sidi-Bel Abbes,34,49,15,0,89.2,24.8,159.1,8.1,35.7,16,fire,1\\r\\n214,31,August,Sidi-Bel Abbes,30,59,19,0,89.1,27.8,168.2,9.8,39.3,19.4,fire,1\\r\\n215,1,September,Sidi-Bel Abbes,29,86,16,0,37.9,0.9,8.2,0.1,1.4,0,not fire,0\\r\\n216,2,September,Sidi-Bel Abbes,28,67,19,0,75.4,2.9,16.3,2,4,0.8,not fire,0\\r\\n217,3,September,Sidi-Bel Abbes,28,75,16,0,82.2,4.4,24.3,3.3,6,2.5,fire,1\\r\\n218,4,September,Sidi-Bel Abbes,30,66,15,0.2,73.5,4.1,26.6,1.5,6,0.7,not fire,0\\r\\n219,5,September,Sidi-Bel Abbes,30,58,12,4.1,66.1,4,8.4,1,3.9,0.4,not fire,0\\r\\n220,6,September,Sidi-Bel Abbes,34,71,14,6.5,64.5,3.3,9.1,1,3.5,0.4,not fire,0\\r\\n221,7,September,Sidi-Bel Abbes,31,62,15,0,83.3,5.8,17.7,3.8,6.4,3.2,fire,1\\r\\n222,8,September,Sidi-Bel Abbes,30,88,14,0,82.5,6.6,26.1,3,8.1,2.7,fire,1\\r\\n223,9,September,Sidi-Bel Abbes,30,80,15,0,83.1,7.9,34.5,3.5,10,3.7,fire,1\\r\\n224,10,September,Sidi-Bel Abbes,29,74,15,1.1,59.5,4.7,8.2,0.8,4.6,0.3,not fire,0\\r\\n225,11,September,Sidi-Bel Abbes,30,73,14,0,79.2,6.5,16.6,2.1,6.6,1.2,not fire,0\\r\\n226,12,September,Sidi-Bel Abbes,31,72,14,0,84.2,8.3,25.2,3.8,9.1,3.9,fire,1\\r\\n227,13,September,Sidi-Bel Abbes,29,49,19,0,88.6,11.5,33.4,9.1,12.4,10.3,fire,1\\r\\n228,14,September,Sidi-Bel Abbes,28,81,15,0,84.6,12.6,41.5,4.3,14.3,5.7,fire,1\\r\\n229,15,September,Sidi-Bel Abbes,32,51,13,0,88.7,16,50.2,6.9,17.8,9.8,fire,1\\r\\n230,16,September,Sidi-Bel Abbes,33,26,13,0,93.9,21.2,59.2,14.2,22.4,19.3,fire,1\\r\\n231,17,September,Sidi-Bel Abbes,34,44,12,0,92.5,25.2,63.3,11.2,26.2,17.5,fire,1\\r\\n232,18,September,Sidi-Bel Abbes,36,33,13,0.1,90.6,25.8,77.8,9,28.2,15.4,fire,1\\r\\n233,19,September,Sidi-Bel Abbes,29,41,8,0.1,83.9,24.9,86,2.7,28.9,5.6,fire,1\\r\\n234,20,September,Sidi-Bel Abbes,34,58,13,0.2,79.5,18.7,88,2.1,24.4,3.8,not fire,0\\r\\n235,21,September,Sidi-Bel Abbes,35,34,17,0,92.2,23.6,97.3,13.8,29.4,21.6,fire,1\\r\\n236,22,September,Sidi-Bel Abbes,33,64,13,0,88.9,26.1,106.3,7.1,32.4,13.7,fire,1\\r\\n237,23,September,Sidi-Bel Abbes,35,56,14,0,89,29.4,115.6,7.5,36,15.2,fire,1\\r\\n238,24,September,Sidi-Bel Abbes,26,49,6,2,61.3,11.9,28.1,0.6,11.9,0.4,not fire,0\\r\\n239,25,September,Sidi-Bel Abbes,28,70,15,0,79.9,13.8,36.1,2.4,14.1,3,not fire,0\\r\\n240,26,September,Sidi-Bel Abbes,30,65,14,0,85.4,16,44.5,4.5,16.9,6.5,fire,1\\r\\n241,27,September,Sidi-Bel Abbes,28,87,15,4.4,41.1,6.5,8,0.1,6.2,0,not fire,0\\r\\n242,28,September,Sidi-Bel Abbes,27,87,29,0.5,45.9,3.5,7.9,0.4,3.4,0.2,not fire,0\\r\\n243,29,September,Sidi-Bel Abbes,24,54,18,0.1,79.7,4.3,15.2,1.7,5.1,0.7,not fire,0\\r\\n244,30,September,Sidi-Bel Abbes,24,64,15,0.2,67.3,3.8,16.5,1.2,4.8,0.5,not fire,0\\r\\n'}"
            ]
          },
          "metadata": {},
          "execution_count": 1
        }
      ]
    },
    {
      "cell_type": "markdown",
      "source": [
        "Importing Necessary Libraries"
      ],
      "metadata": {
        "id": "aAwcTMI-rlaJ"
      }
    },
    {
      "cell_type": "code",
      "source": [
        "from seaborn import matrix\n",
        "import matplotlib as mpl\n",
        "import pandas as pd\n",
        "import numpy as np\n",
        "import seaborn as sns\n",
        "from sklearn.linear_model import LogisticRegression\n",
        "from sklearn.metrics import classification_report, confusion_matrix"
      ],
      "metadata": {
        "id": "fCKDOrhWriGT"
      },
      "execution_count": null,
      "outputs": []
    },
    {
      "cell_type": "markdown",
      "source": [
        "Initial Data Exploration;"
      ],
      "metadata": {
        "id": "S5MTsYJNt00J"
      }
    },
    {
      "cell_type": "code",
      "source": [
        "#Converting data into dataframe\n",
        "ff = pd.read_csv(\"Algerian_forest_fires_dataset.csv\", index_col='Index', header=0, sep=\",\")\n",
        "\n",
        "#Getting first few entries of the df\n",
        "ff.head()\n"
      ],
      "metadata": {
        "colab": {
          "base_uri": "https://localhost:8080/",
          "height": 238
        },
        "id": "sad42vTZtza8",
        "outputId": "eff00345-4dea-4e13-f438-31f5383e4838"
      },
      "execution_count": null,
      "outputs": [
        {
          "output_type": "execute_result",
          "data": {
            "text/html": [
              "\n",
              "  <div id=\"df-354c676e-0399-4f5c-9314-4b467b2ecf04\">\n",
              "    <div class=\"colab-df-container\">\n",
              "      <div>\n",
              "<style scoped>\n",
              "    .dataframe tbody tr th:only-of-type {\n",
              "        vertical-align: middle;\n",
              "    }\n",
              "\n",
              "    .dataframe tbody tr th {\n",
              "        vertical-align: top;\n",
              "    }\n",
              "\n",
              "    .dataframe thead th {\n",
              "        text-align: right;\n",
              "    }\n",
              "</style>\n",
              "<table border=\"1\" class=\"dataframe\">\n",
              "  <thead>\n",
              "    <tr style=\"text-align: right;\">\n",
              "      <th></th>\n",
              "      <th>Day</th>\n",
              "      <th>Month</th>\n",
              "      <th>Region</th>\n",
              "      <th>Temperature</th>\n",
              "      <th>RH</th>\n",
              "      <th>Ws</th>\n",
              "      <th>Rain</th>\n",
              "      <th>FFMC</th>\n",
              "      <th>DMC</th>\n",
              "      <th>DC</th>\n",
              "      <th>ISI</th>\n",
              "      <th>BUI</th>\n",
              "      <th>FWI</th>\n",
              "      <th>Classes</th>\n",
              "      <th>Fire Instance</th>\n",
              "    </tr>\n",
              "    <tr>\n",
              "      <th>Index</th>\n",
              "      <th></th>\n",
              "      <th></th>\n",
              "      <th></th>\n",
              "      <th></th>\n",
              "      <th></th>\n",
              "      <th></th>\n",
              "      <th></th>\n",
              "      <th></th>\n",
              "      <th></th>\n",
              "      <th></th>\n",
              "      <th></th>\n",
              "      <th></th>\n",
              "      <th></th>\n",
              "      <th></th>\n",
              "      <th></th>\n",
              "    </tr>\n",
              "  </thead>\n",
              "  <tbody>\n",
              "    <tr>\n",
              "      <th>1</th>\n",
              "      <td>1</td>\n",
              "      <td>June</td>\n",
              "      <td>Bejaia</td>\n",
              "      <td>29</td>\n",
              "      <td>57</td>\n",
              "      <td>18</td>\n",
              "      <td>0.0</td>\n",
              "      <td>65.7</td>\n",
              "      <td>3.4</td>\n",
              "      <td>7.6</td>\n",
              "      <td>1.3</td>\n",
              "      <td>3.4</td>\n",
              "      <td>0.5</td>\n",
              "      <td>not fire</td>\n",
              "      <td>0</td>\n",
              "    </tr>\n",
              "    <tr>\n",
              "      <th>2</th>\n",
              "      <td>2</td>\n",
              "      <td>June</td>\n",
              "      <td>Bejaia</td>\n",
              "      <td>29</td>\n",
              "      <td>61</td>\n",
              "      <td>13</td>\n",
              "      <td>1.3</td>\n",
              "      <td>64.4</td>\n",
              "      <td>4.1</td>\n",
              "      <td>7.6</td>\n",
              "      <td>1.0</td>\n",
              "      <td>3.9</td>\n",
              "      <td>0.4</td>\n",
              "      <td>not fire</td>\n",
              "      <td>0</td>\n",
              "    </tr>\n",
              "    <tr>\n",
              "      <th>3</th>\n",
              "      <td>3</td>\n",
              "      <td>June</td>\n",
              "      <td>Bejaia</td>\n",
              "      <td>26</td>\n",
              "      <td>82</td>\n",
              "      <td>22</td>\n",
              "      <td>13.1</td>\n",
              "      <td>47.1</td>\n",
              "      <td>2.5</td>\n",
              "      <td>7.1</td>\n",
              "      <td>0.3</td>\n",
              "      <td>2.7</td>\n",
              "      <td>0.1</td>\n",
              "      <td>not fire</td>\n",
              "      <td>0</td>\n",
              "    </tr>\n",
              "    <tr>\n",
              "      <th>4</th>\n",
              "      <td>4</td>\n",
              "      <td>June</td>\n",
              "      <td>Bejaia</td>\n",
              "      <td>25</td>\n",
              "      <td>89</td>\n",
              "      <td>13</td>\n",
              "      <td>2.5</td>\n",
              "      <td>28.6</td>\n",
              "      <td>1.3</td>\n",
              "      <td>6.9</td>\n",
              "      <td>0.0</td>\n",
              "      <td>1.7</td>\n",
              "      <td>0.0</td>\n",
              "      <td>not fire</td>\n",
              "      <td>0</td>\n",
              "    </tr>\n",
              "    <tr>\n",
              "      <th>5</th>\n",
              "      <td>5</td>\n",
              "      <td>June</td>\n",
              "      <td>Bejaia</td>\n",
              "      <td>27</td>\n",
              "      <td>77</td>\n",
              "      <td>16</td>\n",
              "      <td>0.0</td>\n",
              "      <td>64.8</td>\n",
              "      <td>3.0</td>\n",
              "      <td>14.2</td>\n",
              "      <td>1.2</td>\n",
              "      <td>3.9</td>\n",
              "      <td>0.5</td>\n",
              "      <td>not fire</td>\n",
              "      <td>0</td>\n",
              "    </tr>\n",
              "  </tbody>\n",
              "</table>\n",
              "</div>\n",
              "      <button class=\"colab-df-convert\" onclick=\"convertToInteractive('df-354c676e-0399-4f5c-9314-4b467b2ecf04')\"\n",
              "              title=\"Convert this dataframe to an interactive table.\"\n",
              "              style=\"display:none;\">\n",
              "        \n",
              "  <svg xmlns=\"http://www.w3.org/2000/svg\" height=\"24px\"viewBox=\"0 0 24 24\"\n",
              "       width=\"24px\">\n",
              "    <path d=\"M0 0h24v24H0V0z\" fill=\"none\"/>\n",
              "    <path d=\"M18.56 5.44l.94 2.06.94-2.06 2.06-.94-2.06-.94-.94-2.06-.94 2.06-2.06.94zm-11 1L8.5 8.5l.94-2.06 2.06-.94-2.06-.94L8.5 2.5l-.94 2.06-2.06.94zm10 10l.94 2.06.94-2.06 2.06-.94-2.06-.94-.94-2.06-.94 2.06-2.06.94z\"/><path d=\"M17.41 7.96l-1.37-1.37c-.4-.4-.92-.59-1.43-.59-.52 0-1.04.2-1.43.59L10.3 9.45l-7.72 7.72c-.78.78-.78 2.05 0 2.83L4 21.41c.39.39.9.59 1.41.59.51 0 1.02-.2 1.41-.59l7.78-7.78 2.81-2.81c.8-.78.8-2.07 0-2.86zM5.41 20L4 18.59l7.72-7.72 1.47 1.35L5.41 20z\"/>\n",
              "  </svg>\n",
              "      </button>\n",
              "      \n",
              "  <style>\n",
              "    .colab-df-container {\n",
              "      display:flex;\n",
              "      flex-wrap:wrap;\n",
              "      gap: 12px;\n",
              "    }\n",
              "\n",
              "    .colab-df-convert {\n",
              "      background-color: #E8F0FE;\n",
              "      border: none;\n",
              "      border-radius: 50%;\n",
              "      cursor: pointer;\n",
              "      display: none;\n",
              "      fill: #1967D2;\n",
              "      height: 32px;\n",
              "      padding: 0 0 0 0;\n",
              "      width: 32px;\n",
              "    }\n",
              "\n",
              "    .colab-df-convert:hover {\n",
              "      background-color: #E2EBFA;\n",
              "      box-shadow: 0px 1px 2px rgba(60, 64, 67, 0.3), 0px 1px 3px 1px rgba(60, 64, 67, 0.15);\n",
              "      fill: #174EA6;\n",
              "    }\n",
              "\n",
              "    [theme=dark] .colab-df-convert {\n",
              "      background-color: #3B4455;\n",
              "      fill: #D2E3FC;\n",
              "    }\n",
              "\n",
              "    [theme=dark] .colab-df-convert:hover {\n",
              "      background-color: #434B5C;\n",
              "      box-shadow: 0px 1px 3px 1px rgba(0, 0, 0, 0.15);\n",
              "      filter: drop-shadow(0px 1px 2px rgba(0, 0, 0, 0.3));\n",
              "      fill: #FFFFFF;\n",
              "    }\n",
              "  </style>\n",
              "\n",
              "      <script>\n",
              "        const buttonEl =\n",
              "          document.querySelector('#df-354c676e-0399-4f5c-9314-4b467b2ecf04 button.colab-df-convert');\n",
              "        buttonEl.style.display =\n",
              "          google.colab.kernel.accessAllowed ? 'block' : 'none';\n",
              "\n",
              "        async function convertToInteractive(key) {\n",
              "          const element = document.querySelector('#df-354c676e-0399-4f5c-9314-4b467b2ecf04');\n",
              "          const dataTable =\n",
              "            await google.colab.kernel.invokeFunction('convertToInteractive',\n",
              "                                                     [key], {});\n",
              "          if (!dataTable) return;\n",
              "\n",
              "          const docLinkHtml = 'Like what you see? Visit the ' +\n",
              "            '<a target=\"_blank\" href=https://colab.research.google.com/notebooks/data_table.ipynb>data table notebook</a>'\n",
              "            + ' to learn more about interactive tables.';\n",
              "          element.innerHTML = '';\n",
              "          dataTable['output_type'] = 'display_data';\n",
              "          await google.colab.output.renderOutput(dataTable, element);\n",
              "          const docLink = document.createElement('div');\n",
              "          docLink.innerHTML = docLinkHtml;\n",
              "          element.appendChild(docLink);\n",
              "        }\n",
              "      </script>\n",
              "    </div>\n",
              "  </div>\n",
              "  "
            ],
            "text/plain": [
              "       Day Month  Region  Temperature  ...  BUI  FWI   Classes  Fire Instance\n",
              "Index                                  ...                                   \n",
              "1        1  June  Bejaia           29  ...  3.4  0.5  not fire              0\n",
              "2        2  June  Bejaia           29  ...  3.9  0.4  not fire              0\n",
              "3        3  June  Bejaia           26  ...  2.7  0.1  not fire              0\n",
              "4        4  June  Bejaia           25  ...  1.7  0.0  not fire              0\n",
              "5        5  June  Bejaia           27  ...  3.9  0.5  not fire              0\n",
              "\n",
              "[5 rows x 15 columns]"
            ]
          },
          "metadata": {},
          "execution_count": 4
        }
      ]
    },
    {
      "cell_type": "code",
      "source": [
        "#Getting Last few Entries of the df\n",
        "ff.tail()"
      ],
      "metadata": {
        "colab": {
          "base_uri": "https://localhost:8080/",
          "height": 238
        },
        "id": "_GUMIgFXvWz3",
        "outputId": "0d83793a-cb09-4f82-fbbe-4f0f02381776"
      },
      "execution_count": null,
      "outputs": [
        {
          "output_type": "execute_result",
          "data": {
            "text/html": [
              "\n",
              "  <div id=\"df-eba318ff-34cf-4098-82eb-54a7b91f39cc\">\n",
              "    <div class=\"colab-df-container\">\n",
              "      <div>\n",
              "<style scoped>\n",
              "    .dataframe tbody tr th:only-of-type {\n",
              "        vertical-align: middle;\n",
              "    }\n",
              "\n",
              "    .dataframe tbody tr th {\n",
              "        vertical-align: top;\n",
              "    }\n",
              "\n",
              "    .dataframe thead th {\n",
              "        text-align: right;\n",
              "    }\n",
              "</style>\n",
              "<table border=\"1\" class=\"dataframe\">\n",
              "  <thead>\n",
              "    <tr style=\"text-align: right;\">\n",
              "      <th></th>\n",
              "      <th>Day</th>\n",
              "      <th>Month</th>\n",
              "      <th>Region</th>\n",
              "      <th>Temperature</th>\n",
              "      <th>RH</th>\n",
              "      <th>Ws</th>\n",
              "      <th>Rain</th>\n",
              "      <th>FFMC</th>\n",
              "      <th>DMC</th>\n",
              "      <th>DC</th>\n",
              "      <th>ISI</th>\n",
              "      <th>BUI</th>\n",
              "      <th>FWI</th>\n",
              "      <th>Classes</th>\n",
              "      <th>Fire Instance</th>\n",
              "    </tr>\n",
              "    <tr>\n",
              "      <th>Index</th>\n",
              "      <th></th>\n",
              "      <th></th>\n",
              "      <th></th>\n",
              "      <th></th>\n",
              "      <th></th>\n",
              "      <th></th>\n",
              "      <th></th>\n",
              "      <th></th>\n",
              "      <th></th>\n",
              "      <th></th>\n",
              "      <th></th>\n",
              "      <th></th>\n",
              "      <th></th>\n",
              "      <th></th>\n",
              "      <th></th>\n",
              "    </tr>\n",
              "  </thead>\n",
              "  <tbody>\n",
              "    <tr>\n",
              "      <th>240</th>\n",
              "      <td>26</td>\n",
              "      <td>September</td>\n",
              "      <td>Sidi-Bel Abbes</td>\n",
              "      <td>30</td>\n",
              "      <td>65</td>\n",
              "      <td>14</td>\n",
              "      <td>0.0</td>\n",
              "      <td>85.4</td>\n",
              "      <td>16.0</td>\n",
              "      <td>44.5</td>\n",
              "      <td>4.5</td>\n",
              "      <td>16.9</td>\n",
              "      <td>6.5</td>\n",
              "      <td>fire</td>\n",
              "      <td>1</td>\n",
              "    </tr>\n",
              "    <tr>\n",
              "      <th>241</th>\n",
              "      <td>27</td>\n",
              "      <td>September</td>\n",
              "      <td>Sidi-Bel Abbes</td>\n",
              "      <td>28</td>\n",
              "      <td>87</td>\n",
              "      <td>15</td>\n",
              "      <td>4.4</td>\n",
              "      <td>41.1</td>\n",
              "      <td>6.5</td>\n",
              "      <td>8.0</td>\n",
              "      <td>0.1</td>\n",
              "      <td>6.2</td>\n",
              "      <td>0.0</td>\n",
              "      <td>not fire</td>\n",
              "      <td>0</td>\n",
              "    </tr>\n",
              "    <tr>\n",
              "      <th>242</th>\n",
              "      <td>28</td>\n",
              "      <td>September</td>\n",
              "      <td>Sidi-Bel Abbes</td>\n",
              "      <td>27</td>\n",
              "      <td>87</td>\n",
              "      <td>29</td>\n",
              "      <td>0.5</td>\n",
              "      <td>45.9</td>\n",
              "      <td>3.5</td>\n",
              "      <td>7.9</td>\n",
              "      <td>0.4</td>\n",
              "      <td>3.4</td>\n",
              "      <td>0.2</td>\n",
              "      <td>not fire</td>\n",
              "      <td>0</td>\n",
              "    </tr>\n",
              "    <tr>\n",
              "      <th>243</th>\n",
              "      <td>29</td>\n",
              "      <td>September</td>\n",
              "      <td>Sidi-Bel Abbes</td>\n",
              "      <td>24</td>\n",
              "      <td>54</td>\n",
              "      <td>18</td>\n",
              "      <td>0.1</td>\n",
              "      <td>79.7</td>\n",
              "      <td>4.3</td>\n",
              "      <td>15.2</td>\n",
              "      <td>1.7</td>\n",
              "      <td>5.1</td>\n",
              "      <td>0.7</td>\n",
              "      <td>not fire</td>\n",
              "      <td>0</td>\n",
              "    </tr>\n",
              "    <tr>\n",
              "      <th>244</th>\n",
              "      <td>30</td>\n",
              "      <td>September</td>\n",
              "      <td>Sidi-Bel Abbes</td>\n",
              "      <td>24</td>\n",
              "      <td>64</td>\n",
              "      <td>15</td>\n",
              "      <td>0.2</td>\n",
              "      <td>67.3</td>\n",
              "      <td>3.8</td>\n",
              "      <td>16.5</td>\n",
              "      <td>1.2</td>\n",
              "      <td>4.8</td>\n",
              "      <td>0.5</td>\n",
              "      <td>not fire</td>\n",
              "      <td>0</td>\n",
              "    </tr>\n",
              "  </tbody>\n",
              "</table>\n",
              "</div>\n",
              "      <button class=\"colab-df-convert\" onclick=\"convertToInteractive('df-eba318ff-34cf-4098-82eb-54a7b91f39cc')\"\n",
              "              title=\"Convert this dataframe to an interactive table.\"\n",
              "              style=\"display:none;\">\n",
              "        \n",
              "  <svg xmlns=\"http://www.w3.org/2000/svg\" height=\"24px\"viewBox=\"0 0 24 24\"\n",
              "       width=\"24px\">\n",
              "    <path d=\"M0 0h24v24H0V0z\" fill=\"none\"/>\n",
              "    <path d=\"M18.56 5.44l.94 2.06.94-2.06 2.06-.94-2.06-.94-.94-2.06-.94 2.06-2.06.94zm-11 1L8.5 8.5l.94-2.06 2.06-.94-2.06-.94L8.5 2.5l-.94 2.06-2.06.94zm10 10l.94 2.06.94-2.06 2.06-.94-2.06-.94-.94-2.06-.94 2.06-2.06.94z\"/><path d=\"M17.41 7.96l-1.37-1.37c-.4-.4-.92-.59-1.43-.59-.52 0-1.04.2-1.43.59L10.3 9.45l-7.72 7.72c-.78.78-.78 2.05 0 2.83L4 21.41c.39.39.9.59 1.41.59.51 0 1.02-.2 1.41-.59l7.78-7.78 2.81-2.81c.8-.78.8-2.07 0-2.86zM5.41 20L4 18.59l7.72-7.72 1.47 1.35L5.41 20z\"/>\n",
              "  </svg>\n",
              "      </button>\n",
              "      \n",
              "  <style>\n",
              "    .colab-df-container {\n",
              "      display:flex;\n",
              "      flex-wrap:wrap;\n",
              "      gap: 12px;\n",
              "    }\n",
              "\n",
              "    .colab-df-convert {\n",
              "      background-color: #E8F0FE;\n",
              "      border: none;\n",
              "      border-radius: 50%;\n",
              "      cursor: pointer;\n",
              "      display: none;\n",
              "      fill: #1967D2;\n",
              "      height: 32px;\n",
              "      padding: 0 0 0 0;\n",
              "      width: 32px;\n",
              "    }\n",
              "\n",
              "    .colab-df-convert:hover {\n",
              "      background-color: #E2EBFA;\n",
              "      box-shadow: 0px 1px 2px rgba(60, 64, 67, 0.3), 0px 1px 3px 1px rgba(60, 64, 67, 0.15);\n",
              "      fill: #174EA6;\n",
              "    }\n",
              "\n",
              "    [theme=dark] .colab-df-convert {\n",
              "      background-color: #3B4455;\n",
              "      fill: #D2E3FC;\n",
              "    }\n",
              "\n",
              "    [theme=dark] .colab-df-convert:hover {\n",
              "      background-color: #434B5C;\n",
              "      box-shadow: 0px 1px 3px 1px rgba(0, 0, 0, 0.15);\n",
              "      filter: drop-shadow(0px 1px 2px rgba(0, 0, 0, 0.3));\n",
              "      fill: #FFFFFF;\n",
              "    }\n",
              "  </style>\n",
              "\n",
              "      <script>\n",
              "        const buttonEl =\n",
              "          document.querySelector('#df-eba318ff-34cf-4098-82eb-54a7b91f39cc button.colab-df-convert');\n",
              "        buttonEl.style.display =\n",
              "          google.colab.kernel.accessAllowed ? 'block' : 'none';\n",
              "\n",
              "        async function convertToInteractive(key) {\n",
              "          const element = document.querySelector('#df-eba318ff-34cf-4098-82eb-54a7b91f39cc');\n",
              "          const dataTable =\n",
              "            await google.colab.kernel.invokeFunction('convertToInteractive',\n",
              "                                                     [key], {});\n",
              "          if (!dataTable) return;\n",
              "\n",
              "          const docLinkHtml = 'Like what you see? Visit the ' +\n",
              "            '<a target=\"_blank\" href=https://colab.research.google.com/notebooks/data_table.ipynb>data table notebook</a>'\n",
              "            + ' to learn more about interactive tables.';\n",
              "          element.innerHTML = '';\n",
              "          dataTable['output_type'] = 'display_data';\n",
              "          await google.colab.output.renderOutput(dataTable, element);\n",
              "          const docLink = document.createElement('div');\n",
              "          docLink.innerHTML = docLinkHtml;\n",
              "          element.appendChild(docLink);\n",
              "        }\n",
              "      </script>\n",
              "    </div>\n",
              "  </div>\n",
              "  "
            ],
            "text/plain": [
              "       Day      Month          Region  ...  FWI   Classes  Fire Instance\n",
              "Index                                  ...                              \n",
              "240     26  September  Sidi-Bel Abbes  ...  6.5      fire              1\n",
              "241     27  September  Sidi-Bel Abbes  ...  0.0  not fire              0\n",
              "242     28  September  Sidi-Bel Abbes  ...  0.2  not fire              0\n",
              "243     29  September  Sidi-Bel Abbes  ...  0.7  not fire              0\n",
              "244     30  September  Sidi-Bel Abbes  ...  0.5  not fire              0\n",
              "\n",
              "[5 rows x 15 columns]"
            ]
          },
          "metadata": {},
          "execution_count": 5
        }
      ]
    },
    {
      "cell_type": "code",
      "source": [
        "#Summary of the dataset\n",
        "ff.info()\n",
        "ff = ff.dropna()"
      ],
      "metadata": {
        "colab": {
          "base_uri": "https://localhost:8080/"
        },
        "id": "-Kb4ZRcZviao",
        "outputId": "0820039c-ca82-4337-e630-430c8b618596"
      },
      "execution_count": null,
      "outputs": [
        {
          "output_type": "stream",
          "name": "stdout",
          "text": [
            "<class 'pandas.core.frame.DataFrame'>\n",
            "Int64Index: 244 entries, 1 to 244\n",
            "Data columns (total 15 columns):\n",
            " #   Column         Non-Null Count  Dtype  \n",
            "---  ------         --------------  -----  \n",
            " 0   Day            244 non-null    int64  \n",
            " 1   Month          244 non-null    object \n",
            " 2   Region         244 non-null    object \n",
            " 3   Temperature    244 non-null    int64  \n",
            " 4    RH            244 non-null    int64  \n",
            " 5    Ws            244 non-null    int64  \n",
            " 6   Rain           244 non-null    float64\n",
            " 7   FFMC           244 non-null    float64\n",
            " 8   DMC            244 non-null    float64\n",
            " 9   DC             244 non-null    float64\n",
            " 10  ISI            244 non-null    float64\n",
            " 11  BUI            244 non-null    float64\n",
            " 12  FWI            244 non-null    float64\n",
            " 13  Classes        244 non-null    object \n",
            " 14  Fire Instance  244 non-null    int64  \n",
            "dtypes: float64(7), int64(5), object(3)\n",
            "memory usage: 30.5+ KB\n"
          ]
        }
      ]
    },
    {
      "cell_type": "code",
      "source": [
        "#Creating a backup dataframe\n",
        "ffcopy = ff.copy()"
      ],
      "metadata": {
        "id": "iGVazhVrlpuN"
      },
      "execution_count": null,
      "outputs": []
    },
    {
      "cell_type": "markdown",
      "source": [
        "**Model Buiding:**"
      ],
      "metadata": {
        "id": "nMCGWn7MjSek"
      }
    },
    {
      "cell_type": "code",
      "source": [
        "#Test-Train Split\n",
        "from sklearn.model_selection import train_test_split\n",
        "\n",
        "#Assigning Feature Variables to X\n",
        "X = ff.drop(['Month', 'Day', 'Region', 'Classes','ISI', 'BUI'], axis=1)\n",
        "del X['Rain ']\n",
        "X.head()"
      ],
      "metadata": {
        "colab": {
          "base_uri": "https://localhost:8080/",
          "height": 238
        },
        "id": "r39IYi1gjRMs",
        "outputId": "0562b6ee-de6c-4e82-8094-bedea9e14dab"
      },
      "execution_count": null,
      "outputs": [
        {
          "output_type": "execute_result",
          "data": {
            "text/html": [
              "\n",
              "  <div id=\"df-d3a0e8b3-a524-465c-93c0-e4dfa67ed659\">\n",
              "    <div class=\"colab-df-container\">\n",
              "      <div>\n",
              "<style scoped>\n",
              "    .dataframe tbody tr th:only-of-type {\n",
              "        vertical-align: middle;\n",
              "    }\n",
              "\n",
              "    .dataframe tbody tr th {\n",
              "        vertical-align: top;\n",
              "    }\n",
              "\n",
              "    .dataframe thead th {\n",
              "        text-align: right;\n",
              "    }\n",
              "</style>\n",
              "<table border=\"1\" class=\"dataframe\">\n",
              "  <thead>\n",
              "    <tr style=\"text-align: right;\">\n",
              "      <th></th>\n",
              "      <th>Temperature</th>\n",
              "      <th>RH</th>\n",
              "      <th>Ws</th>\n",
              "      <th>FFMC</th>\n",
              "      <th>DMC</th>\n",
              "      <th>DC</th>\n",
              "      <th>FWI</th>\n",
              "      <th>Fire Instance</th>\n",
              "    </tr>\n",
              "    <tr>\n",
              "      <th>Index</th>\n",
              "      <th></th>\n",
              "      <th></th>\n",
              "      <th></th>\n",
              "      <th></th>\n",
              "      <th></th>\n",
              "      <th></th>\n",
              "      <th></th>\n",
              "      <th></th>\n",
              "    </tr>\n",
              "  </thead>\n",
              "  <tbody>\n",
              "    <tr>\n",
              "      <th>1</th>\n",
              "      <td>29</td>\n",
              "      <td>57</td>\n",
              "      <td>18</td>\n",
              "      <td>65.7</td>\n",
              "      <td>3.4</td>\n",
              "      <td>7.6</td>\n",
              "      <td>0.5</td>\n",
              "      <td>0</td>\n",
              "    </tr>\n",
              "    <tr>\n",
              "      <th>2</th>\n",
              "      <td>29</td>\n",
              "      <td>61</td>\n",
              "      <td>13</td>\n",
              "      <td>64.4</td>\n",
              "      <td>4.1</td>\n",
              "      <td>7.6</td>\n",
              "      <td>0.4</td>\n",
              "      <td>0</td>\n",
              "    </tr>\n",
              "    <tr>\n",
              "      <th>3</th>\n",
              "      <td>26</td>\n",
              "      <td>82</td>\n",
              "      <td>22</td>\n",
              "      <td>47.1</td>\n",
              "      <td>2.5</td>\n",
              "      <td>7.1</td>\n",
              "      <td>0.1</td>\n",
              "      <td>0</td>\n",
              "    </tr>\n",
              "    <tr>\n",
              "      <th>4</th>\n",
              "      <td>25</td>\n",
              "      <td>89</td>\n",
              "      <td>13</td>\n",
              "      <td>28.6</td>\n",
              "      <td>1.3</td>\n",
              "      <td>6.9</td>\n",
              "      <td>0.0</td>\n",
              "      <td>0</td>\n",
              "    </tr>\n",
              "    <tr>\n",
              "      <th>5</th>\n",
              "      <td>27</td>\n",
              "      <td>77</td>\n",
              "      <td>16</td>\n",
              "      <td>64.8</td>\n",
              "      <td>3.0</td>\n",
              "      <td>14.2</td>\n",
              "      <td>0.5</td>\n",
              "      <td>0</td>\n",
              "    </tr>\n",
              "  </tbody>\n",
              "</table>\n",
              "</div>\n",
              "      <button class=\"colab-df-convert\" onclick=\"convertToInteractive('df-d3a0e8b3-a524-465c-93c0-e4dfa67ed659')\"\n",
              "              title=\"Convert this dataframe to an interactive table.\"\n",
              "              style=\"display:none;\">\n",
              "        \n",
              "  <svg xmlns=\"http://www.w3.org/2000/svg\" height=\"24px\"viewBox=\"0 0 24 24\"\n",
              "       width=\"24px\">\n",
              "    <path d=\"M0 0h24v24H0V0z\" fill=\"none\"/>\n",
              "    <path d=\"M18.56 5.44l.94 2.06.94-2.06 2.06-.94-2.06-.94-.94-2.06-.94 2.06-2.06.94zm-11 1L8.5 8.5l.94-2.06 2.06-.94-2.06-.94L8.5 2.5l-.94 2.06-2.06.94zm10 10l.94 2.06.94-2.06 2.06-.94-2.06-.94-.94-2.06-.94 2.06-2.06.94z\"/><path d=\"M17.41 7.96l-1.37-1.37c-.4-.4-.92-.59-1.43-.59-.52 0-1.04.2-1.43.59L10.3 9.45l-7.72 7.72c-.78.78-.78 2.05 0 2.83L4 21.41c.39.39.9.59 1.41.59.51 0 1.02-.2 1.41-.59l7.78-7.78 2.81-2.81c.8-.78.8-2.07 0-2.86zM5.41 20L4 18.59l7.72-7.72 1.47 1.35L5.41 20z\"/>\n",
              "  </svg>\n",
              "      </button>\n",
              "      \n",
              "  <style>\n",
              "    .colab-df-container {\n",
              "      display:flex;\n",
              "      flex-wrap:wrap;\n",
              "      gap: 12px;\n",
              "    }\n",
              "\n",
              "    .colab-df-convert {\n",
              "      background-color: #E8F0FE;\n",
              "      border: none;\n",
              "      border-radius: 50%;\n",
              "      cursor: pointer;\n",
              "      display: none;\n",
              "      fill: #1967D2;\n",
              "      height: 32px;\n",
              "      padding: 0 0 0 0;\n",
              "      width: 32px;\n",
              "    }\n",
              "\n",
              "    .colab-df-convert:hover {\n",
              "      background-color: #E2EBFA;\n",
              "      box-shadow: 0px 1px 2px rgba(60, 64, 67, 0.3), 0px 1px 3px 1px rgba(60, 64, 67, 0.15);\n",
              "      fill: #174EA6;\n",
              "    }\n",
              "\n",
              "    [theme=dark] .colab-df-convert {\n",
              "      background-color: #3B4455;\n",
              "      fill: #D2E3FC;\n",
              "    }\n",
              "\n",
              "    [theme=dark] .colab-df-convert:hover {\n",
              "      background-color: #434B5C;\n",
              "      box-shadow: 0px 1px 3px 1px rgba(0, 0, 0, 0.15);\n",
              "      filter: drop-shadow(0px 1px 2px rgba(0, 0, 0, 0.3));\n",
              "      fill: #FFFFFF;\n",
              "    }\n",
              "  </style>\n",
              "\n",
              "      <script>\n",
              "        const buttonEl =\n",
              "          document.querySelector('#df-d3a0e8b3-a524-465c-93c0-e4dfa67ed659 button.colab-df-convert');\n",
              "        buttonEl.style.display =\n",
              "          google.colab.kernel.accessAllowed ? 'block' : 'none';\n",
              "\n",
              "        async function convertToInteractive(key) {\n",
              "          const element = document.querySelector('#df-d3a0e8b3-a524-465c-93c0-e4dfa67ed659');\n",
              "          const dataTable =\n",
              "            await google.colab.kernel.invokeFunction('convertToInteractive',\n",
              "                                                     [key], {});\n",
              "          if (!dataTable) return;\n",
              "\n",
              "          const docLinkHtml = 'Like what you see? Visit the ' +\n",
              "            '<a target=\"_blank\" href=https://colab.research.google.com/notebooks/data_table.ipynb>data table notebook</a>'\n",
              "            + ' to learn more about interactive tables.';\n",
              "          element.innerHTML = '';\n",
              "          dataTable['output_type'] = 'display_data';\n",
              "          await google.colab.output.renderOutput(dataTable, element);\n",
              "          const docLink = document.createElement('div');\n",
              "          docLink.innerHTML = docLinkHtml;\n",
              "          element.appendChild(docLink);\n",
              "        }\n",
              "      </script>\n",
              "    </div>\n",
              "  </div>\n",
              "  "
            ],
            "text/plain": [
              "       Temperature   RH   Ws  FFMC  DMC    DC  FWI  Fire Instance\n",
              "Index                                                            \n",
              "1               29   57   18  65.7  3.4   7.6  0.5              0\n",
              "2               29   61   13  64.4  4.1   7.6  0.4              0\n",
              "3               26   82   22  47.1  2.5   7.1  0.1              0\n",
              "4               25   89   13  28.6  1.3   6.9  0.0              0\n",
              "5               27   77   16  64.8  3.0  14.2  0.5              0"
            ]
          },
          "metadata": {},
          "execution_count": 35
        }
      ]
    },
    {
      "cell_type": "code",
      "source": [
        "#Putting response variable to y\n",
        "y = ff['Fire Instance']\n",
        "y.head()\n"
      ],
      "metadata": {
        "colab": {
          "base_uri": "https://localhost:8080/"
        },
        "id": "QvGMIk_qoE72",
        "outputId": "878b2a11-23d3-4f1e-8865-869233f8c8ba"
      },
      "execution_count": null,
      "outputs": [
        {
          "output_type": "execute_result",
          "data": {
            "text/plain": [
              "Index\n",
              "1    0\n",
              "2    0\n",
              "3    0\n",
              "4    0\n",
              "5    0\n",
              "Name: Fire Instance, dtype: int64"
            ]
          },
          "metadata": {},
          "execution_count": 36
        }
      ]
    },
    {
      "cell_type": "code",
      "source": [
        "#Splitting data into train and test\n",
        "X_train, X_test, y_train, y_test = train_test_split(X, y, train_size=0.8, test_size=0.2, random_state=40 )"
      ],
      "metadata": {
        "id": "1qDdJ0MUoirk"
      },
      "execution_count": null,
      "outputs": []
    },
    {
      "cell_type": "code",
      "source": [
        "X_train.head()"
      ],
      "metadata": {
        "colab": {
          "base_uri": "https://localhost:8080/",
          "height": 238
        },
        "id": "q6ussX7X8O2N",
        "outputId": "67de5107-71ea-4dc9-d079-79c1f6f419ee"
      },
      "execution_count": null,
      "outputs": [
        {
          "output_type": "execute_result",
          "data": {
            "text/html": [
              "\n",
              "  <div id=\"df-24fad9b9-a44b-4608-b89d-f64a4a73362d\">\n",
              "    <div class=\"colab-df-container\">\n",
              "      <div>\n",
              "<style scoped>\n",
              "    .dataframe tbody tr th:only-of-type {\n",
              "        vertical-align: middle;\n",
              "    }\n",
              "\n",
              "    .dataframe tbody tr th {\n",
              "        vertical-align: top;\n",
              "    }\n",
              "\n",
              "    .dataframe thead th {\n",
              "        text-align: right;\n",
              "    }\n",
              "</style>\n",
              "<table border=\"1\" class=\"dataframe\">\n",
              "  <thead>\n",
              "    <tr style=\"text-align: right;\">\n",
              "      <th></th>\n",
              "      <th>Temperature</th>\n",
              "      <th>RH</th>\n",
              "      <th>Ws</th>\n",
              "      <th>FFMC</th>\n",
              "      <th>DMC</th>\n",
              "      <th>DC</th>\n",
              "      <th>FWI</th>\n",
              "      <th>Fire Instance</th>\n",
              "    </tr>\n",
              "    <tr>\n",
              "      <th>Index</th>\n",
              "      <th></th>\n",
              "      <th></th>\n",
              "      <th></th>\n",
              "      <th></th>\n",
              "      <th></th>\n",
              "      <th></th>\n",
              "      <th></th>\n",
              "      <th></th>\n",
              "    </tr>\n",
              "  </thead>\n",
              "  <tbody>\n",
              "    <tr>\n",
              "      <th>27</th>\n",
              "      <td>34</td>\n",
              "      <td>53</td>\n",
              "      <td>18</td>\n",
              "      <td>89.0</td>\n",
              "      <td>21.6</td>\n",
              "      <td>80.3</td>\n",
              "      <td>15.0</td>\n",
              "      <td>1</td>\n",
              "    </tr>\n",
              "    <tr>\n",
              "      <th>168</th>\n",
              "      <td>31</td>\n",
              "      <td>83</td>\n",
              "      <td>17</td>\n",
              "      <td>84.5</td>\n",
              "      <td>19.4</td>\n",
              "      <td>33.1</td>\n",
              "      <td>7.3</td>\n",
              "      <td>1</td>\n",
              "    </tr>\n",
              "    <tr>\n",
              "      <th>223</th>\n",
              "      <td>30</td>\n",
              "      <td>80</td>\n",
              "      <td>15</td>\n",
              "      <td>83.1</td>\n",
              "      <td>7.9</td>\n",
              "      <td>34.5</td>\n",
              "      <td>3.7</td>\n",
              "      <td>1</td>\n",
              "    </tr>\n",
              "    <tr>\n",
              "      <th>122</th>\n",
              "      <td>25</td>\n",
              "      <td>78</td>\n",
              "      <td>14</td>\n",
              "      <td>45.0</td>\n",
              "      <td>1.9</td>\n",
              "      <td>7.5</td>\n",
              "      <td>0.1</td>\n",
              "      <td>0</td>\n",
              "    </tr>\n",
              "    <tr>\n",
              "      <th>230</th>\n",
              "      <td>33</td>\n",
              "      <td>26</td>\n",
              "      <td>13</td>\n",
              "      <td>93.9</td>\n",
              "      <td>21.2</td>\n",
              "      <td>59.2</td>\n",
              "      <td>19.3</td>\n",
              "      <td>1</td>\n",
              "    </tr>\n",
              "  </tbody>\n",
              "</table>\n",
              "</div>\n",
              "      <button class=\"colab-df-convert\" onclick=\"convertToInteractive('df-24fad9b9-a44b-4608-b89d-f64a4a73362d')\"\n",
              "              title=\"Convert this dataframe to an interactive table.\"\n",
              "              style=\"display:none;\">\n",
              "        \n",
              "  <svg xmlns=\"http://www.w3.org/2000/svg\" height=\"24px\"viewBox=\"0 0 24 24\"\n",
              "       width=\"24px\">\n",
              "    <path d=\"M0 0h24v24H0V0z\" fill=\"none\"/>\n",
              "    <path d=\"M18.56 5.44l.94 2.06.94-2.06 2.06-.94-2.06-.94-.94-2.06-.94 2.06-2.06.94zm-11 1L8.5 8.5l.94-2.06 2.06-.94-2.06-.94L8.5 2.5l-.94 2.06-2.06.94zm10 10l.94 2.06.94-2.06 2.06-.94-2.06-.94-.94-2.06-.94 2.06-2.06.94z\"/><path d=\"M17.41 7.96l-1.37-1.37c-.4-.4-.92-.59-1.43-.59-.52 0-1.04.2-1.43.59L10.3 9.45l-7.72 7.72c-.78.78-.78 2.05 0 2.83L4 21.41c.39.39.9.59 1.41.59.51 0 1.02-.2 1.41-.59l7.78-7.78 2.81-2.81c.8-.78.8-2.07 0-2.86zM5.41 20L4 18.59l7.72-7.72 1.47 1.35L5.41 20z\"/>\n",
              "  </svg>\n",
              "      </button>\n",
              "      \n",
              "  <style>\n",
              "    .colab-df-container {\n",
              "      display:flex;\n",
              "      flex-wrap:wrap;\n",
              "      gap: 12px;\n",
              "    }\n",
              "\n",
              "    .colab-df-convert {\n",
              "      background-color: #E8F0FE;\n",
              "      border: none;\n",
              "      border-radius: 50%;\n",
              "      cursor: pointer;\n",
              "      display: none;\n",
              "      fill: #1967D2;\n",
              "      height: 32px;\n",
              "      padding: 0 0 0 0;\n",
              "      width: 32px;\n",
              "    }\n",
              "\n",
              "    .colab-df-convert:hover {\n",
              "      background-color: #E2EBFA;\n",
              "      box-shadow: 0px 1px 2px rgba(60, 64, 67, 0.3), 0px 1px 3px 1px rgba(60, 64, 67, 0.15);\n",
              "      fill: #174EA6;\n",
              "    }\n",
              "\n",
              "    [theme=dark] .colab-df-convert {\n",
              "      background-color: #3B4455;\n",
              "      fill: #D2E3FC;\n",
              "    }\n",
              "\n",
              "    [theme=dark] .colab-df-convert:hover {\n",
              "      background-color: #434B5C;\n",
              "      box-shadow: 0px 1px 3px 1px rgba(0, 0, 0, 0.15);\n",
              "      filter: drop-shadow(0px 1px 2px rgba(0, 0, 0, 0.3));\n",
              "      fill: #FFFFFF;\n",
              "    }\n",
              "  </style>\n",
              "\n",
              "      <script>\n",
              "        const buttonEl =\n",
              "          document.querySelector('#df-24fad9b9-a44b-4608-b89d-f64a4a73362d button.colab-df-convert');\n",
              "        buttonEl.style.display =\n",
              "          google.colab.kernel.accessAllowed ? 'block' : 'none';\n",
              "\n",
              "        async function convertToInteractive(key) {\n",
              "          const element = document.querySelector('#df-24fad9b9-a44b-4608-b89d-f64a4a73362d');\n",
              "          const dataTable =\n",
              "            await google.colab.kernel.invokeFunction('convertToInteractive',\n",
              "                                                     [key], {});\n",
              "          if (!dataTable) return;\n",
              "\n",
              "          const docLinkHtml = 'Like what you see? Visit the ' +\n",
              "            '<a target=\"_blank\" href=https://colab.research.google.com/notebooks/data_table.ipynb>data table notebook</a>'\n",
              "            + ' to learn more about interactive tables.';\n",
              "          element.innerHTML = '';\n",
              "          dataTable['output_type'] = 'display_data';\n",
              "          await google.colab.output.renderOutput(dataTable, element);\n",
              "          const docLink = document.createElement('div');\n",
              "          docLink.innerHTML = docLinkHtml;\n",
              "          element.appendChild(docLink);\n",
              "        }\n",
              "      </script>\n",
              "    </div>\n",
              "  </div>\n",
              "  "
            ],
            "text/plain": [
              "       Temperature   RH   Ws  FFMC   DMC    DC   FWI  Fire Instance\n",
              "Index                                                              \n",
              "27              34   53   18  89.0  21.6  80.3  15.0              1\n",
              "168             31   83   17  84.5  19.4  33.1   7.3              1\n",
              "223             30   80   15  83.1   7.9  34.5   3.7              1\n",
              "122             25   78   14  45.0   1.9   7.5   0.1              0\n",
              "230             33   26   13  93.9  21.2  59.2  19.3              1"
            ]
          },
          "metadata": {},
          "execution_count": 38
        }
      ]
    },
    {
      "cell_type": "code",
      "source": [
        "y_train.head()"
      ],
      "metadata": {
        "colab": {
          "base_uri": "https://localhost:8080/"
        },
        "id": "4GLUWRg_Ec__",
        "outputId": "7e8466bb-d11c-40fb-e34e-602a2c9d6af9"
      },
      "execution_count": null,
      "outputs": [
        {
          "output_type": "execute_result",
          "data": {
            "text/plain": [
              "Index\n",
              "27     1\n",
              "168    1\n",
              "223    1\n",
              "122    0\n",
              "230    1\n",
              "Name: Fire Instance, dtype: int64"
            ]
          },
          "metadata": {},
          "execution_count": 39
        }
      ]
    },
    {
      "cell_type": "markdown",
      "source": [
        "Now, Investigating Correlation in the Training dataset;"
      ],
      "metadata": {
        "id": "XM36LQEOpkt1"
      }
    },
    {
      "cell_type": "code",
      "source": [
        "#Correlation heatmap; \n",
        "\n",
        "sns.heatmap(ff.corr(),annot = True)\n"
      ],
      "metadata": {
        "colab": {
          "base_uri": "https://localhost:8080/",
          "height": 340
        },
        "id": "EhHYLXFjp_cI",
        "outputId": "2c1986f6-9c15-4a9b-873a-897c090db009"
      },
      "execution_count": null,
      "outputs": [
        {
          "output_type": "execute_result",
          "data": {
            "text/plain": [
              "<matplotlib.axes._subplots.AxesSubplot at 0x7f42d9e72510>"
            ]
          },
          "metadata": {},
          "execution_count": 40
        },
        {
          "output_type": "display_data",
          "data": {
            "image/png": "[encoded data removed]",
            "text/plain": [
              "<Figure size 432x288 with 2 Axes>"
            ]
          },
          "metadata": {
            "needs_background": "light"
          }
        }
      ]
    },
    {
      "cell_type": "markdown",
      "source": [
        "Scaling the Variables;"
      ],
      "metadata": {
        "id": "6BzkHIJkDjQ5"
      }
    },
    {
      "cell_type": "markdown",
      "source": [
        "The training Model;\n"
      ],
      "metadata": {
        "id": "6DrulxwbrtXM"
      }
    },
    {
      "cell_type": "code",
      "source": [
        "# Importing libraries necessary for the model\n",
        "import statsmodels.api as sm\n",
        "\n",
        "#First Logistic Regression Model\n",
        "\n",
        "\n",
        "logm1 = sm.GLM(y_train,(sm.add_constant(X_train)), family = sm.families.Binomial())\n",
        "logm1.fit().summary()"
      ],
      "metadata": {
        "colab": {
          "base_uri": "https://localhost:8080/",
          "height": 417
        },
        "id": "_kjdHFDArwkc",
        "outputId": "0dd447af-4db6-4c28-a4ad-9ef09398015d"
      },
      "execution_count": null,
      "outputs": [
        {
          "output_type": "stream",
          "name": "stderr",
          "text": [
            "/usr/local/lib/python3.7/dist-packages/statsmodels/tsa/tsatools.py:117: FutureWarning: In a future version of pandas all arguments of concat except for the argument 'objs' will be keyword-only\n",
            "  x = pd.concat(x[::order], 1)\n"
          ]
        },
        {
          "output_type": "error",
          "ename": "PerfectSeparationError",
          "evalue": "ignored",
          "traceback": [
            "\u001b[0;31m---------------------------------------------------------------------------\u001b[0m",
            "\u001b[0;31mPerfectSeparationError\u001b[0m                    Traceback (most recent call last)",
            "\u001b[0;32m<ipython-input-41-76c21d0420ab>\u001b[0m in \u001b[0;36m<module>\u001b[0;34m()\u001b[0m\n\u001b[1;32m      6\u001b[0m \u001b[0;34m\u001b[0m\u001b[0m\n\u001b[1;32m      7\u001b[0m \u001b[0mlogm1\u001b[0m \u001b[0;34m=\u001b[0m \u001b[0msm\u001b[0m\u001b[0;34m.\u001b[0m\u001b[0mGLM\u001b[0m\u001b[0;34m(\u001b[0m\u001b[0my_train\u001b[0m\u001b[0;34m,\u001b[0m\u001b[0;34m(\u001b[0m\u001b[0msm\u001b[0m\u001b[0;34m.\u001b[0m\u001b[0madd_constant\u001b[0m\u001b[0;34m(\u001b[0m\u001b[0mX_train\u001b[0m\u001b[0;34m)\u001b[0m\u001b[0;34m)\u001b[0m\u001b[0;34m,\u001b[0m \u001b[0mfamily\u001b[0m \u001b[0;34m=\u001b[0m \u001b[0msm\u001b[0m\u001b[0;34m.\u001b[0m\u001b[0mfamilies\u001b[0m\u001b[0;34m.\u001b[0m\u001b[0mBinomial\u001b[0m\u001b[0;34m(\u001b[0m\u001b[0;34m)\u001b[0m\u001b[0;34m)\u001b[0m\u001b[0;34m\u001b[0m\u001b[0;34m\u001b[0m\u001b[0m\n\u001b[0;32m----> 8\u001b[0;31m \u001b[0mlogm1\u001b[0m\u001b[0;34m.\u001b[0m\u001b[0mfit\u001b[0m\u001b[0;34m(\u001b[0m\u001b[0;34m)\u001b[0m\u001b[0;34m.\u001b[0m\u001b[0msummary\u001b[0m\u001b[0;34m(\u001b[0m\u001b[0;34m)\u001b[0m\u001b[0;34m\u001b[0m\u001b[0;34m\u001b[0m\u001b[0m\n\u001b[0m",
            "\u001b[0;32m/usr/local/lib/python3.7/dist-packages/statsmodels/genmod/generalized_linear_model.py\u001b[0m in \u001b[0;36mfit\u001b[0;34m(self, start_params, maxiter, method, tol, scale, cov_type, cov_kwds, use_t, full_output, disp, max_start_irls, **kwargs)\u001b[0m\n\u001b[1;32m   1026\u001b[0m             return self._fit_irls(start_params=start_params, maxiter=maxiter,\n\u001b[1;32m   1027\u001b[0m                                   \u001b[0mtol\u001b[0m\u001b[0;34m=\u001b[0m\u001b[0mtol\u001b[0m\u001b[0;34m,\u001b[0m \u001b[0mscale\u001b[0m\u001b[0;34m=\u001b[0m\u001b[0mscale\u001b[0m\u001b[0;34m,\u001b[0m \u001b[0mcov_type\u001b[0m\u001b[0;34m=\u001b[0m\u001b[0mcov_type\u001b[0m\u001b[0;34m,\u001b[0m\u001b[0;34m\u001b[0m\u001b[0;34m\u001b[0m\u001b[0m\n\u001b[0;32m-> 1028\u001b[0;31m                                   cov_kwds=cov_kwds, use_t=use_t, **kwargs)\n\u001b[0m\u001b[1;32m   1029\u001b[0m         \u001b[0;32melse\u001b[0m\u001b[0;34m:\u001b[0m\u001b[0;34m\u001b[0m\u001b[0;34m\u001b[0m\u001b[0m\n\u001b[1;32m   1030\u001b[0m             \u001b[0mself\u001b[0m\u001b[0;34m.\u001b[0m\u001b[0m_optim_hessian\u001b[0m \u001b[0;34m=\u001b[0m \u001b[0mkwargs\u001b[0m\u001b[0;34m.\u001b[0m\u001b[0mget\u001b[0m\u001b[0;34m(\u001b[0m\u001b[0;34m'optim_hessian'\u001b[0m\u001b[0;34m)\u001b[0m\u001b[0;34m\u001b[0m\u001b[0;34m\u001b[0m\u001b[0m\n",
            "\u001b[0;32m/usr/local/lib/python3.7/dist-packages/statsmodels/genmod/generalized_linear_model.py\u001b[0m in \u001b[0;36m_fit_irls\u001b[0;34m(self, start_params, maxiter, tol, scale, cov_type, cov_kwds, use_t, **kwargs)\u001b[0m\n\u001b[1;32m   1173\u001b[0m             \u001b[0;32mif\u001b[0m \u001b[0mendog\u001b[0m\u001b[0;34m.\u001b[0m\u001b[0msqueeze\u001b[0m\u001b[0;34m(\u001b[0m\u001b[0;34m)\u001b[0m\u001b[0;34m.\u001b[0m\u001b[0mndim\u001b[0m \u001b[0;34m==\u001b[0m \u001b[0;36m1\u001b[0m \u001b[0;32mand\u001b[0m \u001b[0mnp\u001b[0m\u001b[0;34m.\u001b[0m\u001b[0mallclose\u001b[0m\u001b[0;34m(\u001b[0m\u001b[0mmu\u001b[0m \u001b[0;34m-\u001b[0m \u001b[0mendog\u001b[0m\u001b[0;34m,\u001b[0m \u001b[0;36m0\u001b[0m\u001b[0;34m)\u001b[0m\u001b[0;34m:\u001b[0m\u001b[0;34m\u001b[0m\u001b[0;34m\u001b[0m\u001b[0m\n\u001b[1;32m   1174\u001b[0m                 \u001b[0mmsg\u001b[0m \u001b[0;34m=\u001b[0m \u001b[0;34m\"Perfect separation detected, results not available\"\u001b[0m\u001b[0;34m\u001b[0m\u001b[0;34m\u001b[0m\u001b[0m\n\u001b[0;32m-> 1175\u001b[0;31m                 \u001b[0;32mraise\u001b[0m \u001b[0mPerfectSeparationError\u001b[0m\u001b[0;34m(\u001b[0m\u001b[0mmsg\u001b[0m\u001b[0;34m)\u001b[0m\u001b[0;34m\u001b[0m\u001b[0;34m\u001b[0m\u001b[0m\n\u001b[0m\u001b[1;32m   1176\u001b[0m             converged = _check_convergence(criterion, iteration + 1, atol,\n\u001b[1;32m   1177\u001b[0m                                            rtol)\n",
            "\u001b[0;31mPerfectSeparationError\u001b[0m: Perfect separation detected, results not available"
          ]
        }
      ]
    }
  ]
}