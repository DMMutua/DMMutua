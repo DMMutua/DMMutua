{
  "nbformat": 4,
  "nbformat_minor": 0,
  "metadata": {
    "colab": {
      "name": "\"Deep Learning with Python: 2nd Edition\" Practice Notebook.ipynb",
      "provenance": [],
      "collapsed_sections": [],
      "authorship_tag": "ABX9TyMBn7ztbCB9glR/QOA1XGTu",
      "include_colab_link": true
    },
    "kernelspec": {
      "name": "python3",
      "display_name": "Python 3"
    },
    "language_info": {
      "name": "python"
    }
  },
  "cells": [
    {
      "cell_type": "markdown",
      "metadata": {
        "id": "view-in-github",
        "colab_type": "text"
      },
      "source": [
        "<a href=\"https://colab.research.google.com/github/DMMutua/DMMutua/blob/main/%22Deep_Learning_with_Python_2nd_Edition%22_Practice_Notebook.ipynb\" target=\"_parent\"><img src=\"https://colab.research.google.com/assets/colab-badge.svg\" alt=\"Open In Colab\"/></a>"
      ]
    },
    {
      "cell_type": "markdown",
      "source": [
        "THE FIRST APPLICATION OF A DL MODEL;"
      ],
      "metadata": {
        "id": "Ce27CwFftPAH"
      }
    },
    {
      "cell_type": "code",
      "source": [
        "#Downloading the needed dataset; MNIST dataset in Keras\n",
        "\n",
        "from keras.datasets import mnist\n",
        "(train_images, train_labels), (test_images, test_labels) = mnist.load_data()"
      ],
      "metadata": {
        "id": "aJ56ncWTtYre",
        "colab": {
          "base_uri": "https://localhost:8080/"
        },
        "outputId": "d8f6c0c5-2095-4941-a9d6-806b4c8bc67f"
      },
      "execution_count": 2,
      "outputs": [
        {
          "output_type": "stream",
          "name": "stdout",
          "text": [
            "Downloading data from https://storage.googleapis.com/tensorflow/tf-keras-datasets/mnist.npz\n",
            "11493376/11490434 [==============================] - 0s 0us/step\n",
            "11501568/11490434 [==============================] - 0s 0us/step\n"
          ]
        }
      ]
    },
    {
      "cell_type": "code",
      "source": [
        "#Inspecting the training data shape;\n",
        "\n",
        "train_images.shape\n",
        "\n",
        "#As per the output, the train_images subset has 60,000 rank-2 \n",
        "#tensors of 28*28. each matrix is a grayscal image\n",
        "#with coefficients between 0 and 255"
      ],
      "metadata": {
        "colab": {
          "base_uri": "https://localhost:8080/"
        },
        "id": "detPPskftUqK",
        "outputId": "4b96eb47-3317-49fe-d062-d24340457f33"
      },
      "execution_count": 3,
      "outputs": [
        {
          "output_type": "execute_result",
          "data": {
            "text/plain": [
              "(60000, 28, 28)"
            ]
          },
          "metadata": {},
          "execution_count": 3
        }
      ]
    },
    {
      "cell_type": "code",
      "source": [
        "#length of the test labels\n",
        "test_labels"
      ],
      "metadata": {
        "colab": {
          "base_uri": "https://localhost:8080/"
        },
        "id": "w0xPAVCXwjnW",
        "outputId": "371cb03c-d110-4a2c-d667-0fbec4fa882d"
      },
      "execution_count": 4,
      "outputs": [
        {
          "output_type": "execute_result",
          "data": {
            "text/plain": [
              "array([7, 2, 1, ..., 4, 5, 6], dtype=uint8)"
            ]
          },
          "metadata": {},
          "execution_count": 4
        }
      ]
    },
    {
      "cell_type": "markdown",
      "source": [
        "*The Network Architecture;* "
      ],
      "metadata": {
        "id": "PGY4qLs6xlhe"
      }
    },
    {
      "cell_type": "code",
      "source": [
        "#Importing necessary models and layers\n",
        "from tensorflow.keras import models\n",
        "from tensorflow.keras import layers"
      ],
      "metadata": {
        "id": "xSNC6cfkxW5a"
      },
      "execution_count": 5,
      "outputs": []
    },
    {
      "cell_type": "code",
      "source": [
        "# The model\n",
        "model = models.Sequential([\n",
        "                           layers.Dense(512, activation='relu'),\n",
        "                           layers.Dense(10, activation='softmax')\n",
        "])"
      ],
      "metadata": {
        "id": "Yk_wQuCLx9lr"
      },
      "execution_count": 6,
      "outputs": []
    },
    {
      "cell_type": "code",
      "source": [
        "#The Compilation Step\n",
        "model.compile(optimizer='rmsprop',\n",
        "              loss='sparse_categorical_crossentropy',\n",
        "              metrics=['accuracy'])"
      ],
      "metadata": {
        "id": "eon53gw8Ja_0"
      },
      "execution_count": 8,
      "outputs": []
    },
    {
      "cell_type": "code",
      "source": [
        "#Preparing the Image Data\n",
        "train_images = train_images.reshape((60000, 28 * 28))\n",
        "train_images = train_images.astype('float32') / 255\n",
        "\n",
        "test_images = test_images.reshape((10000, 28 * 28))\n",
        "train_images = train_images.astype('float32') / 255"
      ],
      "metadata": {
        "id": "8AQD9S59Kcyy"
      },
      "execution_count": 10,
      "outputs": []
    },
    {
      "cell_type": "code",
      "source": [
        "#\"Fitting\" the model\n",
        "#This Online IDE is slow and i intend to use Pycharm to better use the \n",
        "#computing power i have on my Laptop\n",
        "#According to Txtbk Example, Accuracy easily goes past 98.9% with only 5 epochs\n",
        "model.fit(train_images, train_labels, epochs=20, batch_size=128)"
      ],
      "metadata": {
        "colab": {
          "base_uri": "https://localhost:8080/"
        },
        "id": "w7I4D3tvNPtc",
        "outputId": "beb4df88-9311-4921-8337-ccfecff3568e"
      },
      "execution_count": 18,
      "outputs": [
        {
          "output_type": "stream",
          "name": "stdout",
          "text": [
            "Epoch 1/20\n",
            "469/469 [==============================] - 5s 10ms/step - loss: 0.7215 - accuracy: 0.7927\n",
            "Epoch 2/20\n",
            "469/469 [==============================] - 5s 10ms/step - loss: 0.7162 - accuracy: 0.7937\n",
            "Epoch 3/20\n",
            "469/469 [==============================] - 5s 10ms/step - loss: 0.7118 - accuracy: 0.7960\n",
            "Epoch 4/20\n",
            "469/469 [==============================] - 5s 10ms/step - loss: 0.7065 - accuracy: 0.7958\n",
            "Epoch 5/20\n",
            "469/469 [==============================] - 5s 10ms/step - loss: 0.7014 - accuracy: 0.7980\n",
            "Epoch 6/20\n",
            "469/469 [==============================] - 5s 10ms/step - loss: 0.6968 - accuracy: 0.7994\n",
            "Epoch 7/20\n",
            "469/469 [==============================] - 5s 10ms/step - loss: 0.6920 - accuracy: 0.8022\n",
            "Epoch 8/20\n",
            "469/469 [==============================] - 5s 10ms/step - loss: 0.6874 - accuracy: 0.8019\n",
            "Epoch 9/20\n",
            "469/469 [==============================] - 5s 10ms/step - loss: 0.6827 - accuracy: 0.8045\n",
            "Epoch 10/20\n",
            "469/469 [==============================] - 5s 10ms/step - loss: 0.6783 - accuracy: 0.8057\n",
            "Epoch 11/20\n",
            "469/469 [==============================] - 5s 10ms/step - loss: 0.6735 - accuracy: 0.8068\n",
            "Epoch 12/20\n",
            "469/469 [==============================] - 5s 10ms/step - loss: 0.6696 - accuracy: 0.8080\n",
            "Epoch 13/20\n",
            "469/469 [==============================] - 5s 10ms/step - loss: 0.6651 - accuracy: 0.8090\n",
            "Epoch 14/20\n",
            "469/469 [==============================] - 5s 10ms/step - loss: 0.6611 - accuracy: 0.8099\n",
            "Epoch 15/20\n",
            "469/469 [==============================] - 5s 10ms/step - loss: 0.6568 - accuracy: 0.8109\n",
            "Epoch 16/20\n",
            "469/469 [==============================] - 5s 10ms/step - loss: 0.6526 - accuracy: 0.8133\n",
            "Epoch 17/20\n",
            "469/469 [==============================] - 5s 10ms/step - loss: 0.6487 - accuracy: 0.8138\n",
            "Epoch 18/20\n",
            "469/469 [==============================] - 5s 10ms/step - loss: 0.6444 - accuracy: 0.8153\n",
            "Epoch 19/20\n",
            "469/469 [==============================] - 5s 10ms/step - loss: 0.6405 - accuracy: 0.8153\n",
            "Epoch 20/20\n",
            "469/469 [==============================] - 5s 10ms/step - loss: 0.6366 - accuracy: 0.8173\n"
          ]
        },
        {
          "output_type": "execute_result",
          "data": {
            "text/plain": [
              "<keras.callbacks.History at 0x7ff28cc62610>"
            ]
          },
          "metadata": {},
          "execution_count": 18
        }
      ]
    },
    {
      "cell_type": "code",
      "source": [
        "#Using the Model to Make Predictions \n",
        "test_digits = test_images[0:10]\n",
        "predictions = model.predict(test_digits)\n",
        "predictions[0]\n",
        "#for test_digits[0], this below array is the corresponding probabilities\n",
        "#that they belong to class i "
      ],
      "metadata": {
        "colab": {
          "base_uri": "https://localhost:8080/"
        },
        "id": "vZhdKW24VlWJ",
        "outputId": "f584b626-7b06-49c7-f458-5634c9285106"
      },
      "execution_count": 20,
      "outputs": [
        {
          "output_type": "execute_result",
          "data": {
            "text/plain": [
              "array([0., 0., 0., 0., 0., 0., 0., 1., 0., 0.], dtype=float32)"
            ]
          },
          "metadata": {},
          "execution_count": 20
        }
      ]
    },
    {
      "cell_type": "code",
      "source": [
        "predictions[0].argmax()"
      ],
      "metadata": {
        "colab": {
          "base_uri": "https://localhost:8080/"
        },
        "id": "gwq635KTW6DS",
        "outputId": "272f9c2f-e44e-4db7-da05-9a2d043cd671"
      },
      "execution_count": 21,
      "outputs": [
        {
          "output_type": "execute_result",
          "data": {
            "text/plain": [
              "7"
            ]
          },
          "metadata": {},
          "execution_count": 21
        }
      ]
    },
    {
      "cell_type": "code",
      "source": [
        "predictions[0][7]"
      ],
      "metadata": {
        "colab": {
          "base_uri": "https://localhost:8080/"
        },
        "id": "tAXUrjqRXgPp",
        "outputId": "f2532fa2-5fbd-468f-c154-cb4056b72b34"
      },
      "execution_count": 22,
      "outputs": [
        {
          "output_type": "execute_result",
          "data": {
            "text/plain": [
              "1.0"
            ]
          },
          "metadata": {},
          "execution_count": 22
        }
      ]
    },
    {
      "cell_type": "code",
      "source": [
        "#Checking whether test labels agree to the prediction\n",
        "test_labels[0]"
      ],
      "metadata": {
        "colab": {
          "base_uri": "https://localhost:8080/"
        },
        "id": "2upUC4snXoHY",
        "outputId": "9c1b09b9-4509-4400-b780-dc63697b513f"
      },
      "execution_count": 24,
      "outputs": [
        {
          "output_type": "execute_result",
          "data": {
            "text/plain": [
              "7"
            ]
          },
          "metadata": {},
          "execution_count": 24
        }
      ]
    },
    {
      "cell_type": "markdown",
      "source": [
        "On average, how good is the model at classyfying such never-seen-before digits? we check this by computing avergae accuracy over the entire test set"
      ],
      "metadata": {
        "id": "hf23uBjAX6sk"
      }
    },
    {
      "cell_type": "code",
      "source": [
        "#Evaluating the model on new data\n",
        "test_loss, test_acc = model.evaluate(test_images, test_labels)\n",
        "print('test accuracy:', test_acc)"
      ],
      "metadata": {
        "colab": {
          "base_uri": "https://localhost:8080/"
        },
        "id": "FBlQFo01YKWR",
        "outputId": "c719e7fd-244d-410f-e73e-92b243823598"
      },
      "execution_count": 25,
      "outputs": [
        {
          "output_type": "stream",
          "name": "stdout",
          "text": [
            "313/313 [==============================] - 1s 3ms/step - loss: 6776482.0000 - accuracy: 0.2676\n",
            "test accuracy: 0.26759999990463257\n"
          ]
        }
      ]
    },
    {
      "cell_type": "markdown",
      "source": [
        "**KEY ATTRIBUTES OF TENSORS**\n",
        "1.   Number of Axes (rank)\n",
        "2.   Shape(Describe the no. of dimensions along each axis)\n",
        "3.   Data Type\n"
      ],
      "metadata": {
        "id": "coCYWSRvdIQY"
      }
    },
    {
      "cell_type": "markdown",
      "source": [
        "*Now, Lets Explore the MNIST dataset;*"
      ],
      "metadata": {
        "id": "GUenBLandtX3"
      }
    },
    {
      "cell_type": "code",
      "source": [
        "#Re-importing the mnist dataset\n",
        "from keras.datasets import mnist\n",
        "(train_images, train_labels), (test_images, test_labels) = mnist.load_data()"
      ],
      "metadata": {
        "id": "fI7MHHCSe-zA"
      },
      "execution_count": 27,
      "outputs": []
    },
    {
      "cell_type": "code",
      "source": [
        "#Displaying the number of axes;\n",
        "print(train_images.ndim)"
      ],
      "metadata": {
        "colab": {
          "base_uri": "https://localhost:8080/"
        },
        "id": "e6GcWhSleWfZ",
        "outputId": "f31e87d2-5db2-45a6-c172-c00fb7aa5ee8"
      },
      "execution_count": 29,
      "outputs": [
        {
          "output_type": "stream",
          "name": "stdout",
          "text": [
            "3\n"
          ]
        }
      ]
    },
    {
      "cell_type": "code",
      "source": [
        "#Displaying the shape\n",
        "print(train_images.shape)"
      ],
      "metadata": {
        "colab": {
          "base_uri": "https://localhost:8080/"
        },
        "id": "jZ2wO4ajfskY",
        "outputId": "f3290121-c56b-410d-908d-dfa740ecee65"
      },
      "execution_count": 30,
      "outputs": [
        {
          "output_type": "stream",
          "name": "stdout",
          "text": [
            "(60000, 28, 28)\n"
          ]
        }
      ]
    },
    {
      "cell_type": "code",
      "source": [
        "#Displaying the data type\n",
        "print(train_images.dtype)"
      ],
      "metadata": {
        "colab": {
          "base_uri": "https://localhost:8080/"
        },
        "id": "dEpuT7QkhL2O",
        "outputId": "7ff7cc9b-3978-4d49-cf26-93db91ae1a22"
      },
      "execution_count": 31,
      "outputs": [
        {
          "output_type": "stream",
          "name": "stdout",
          "text": [
            "uint8\n"
          ]
        }
      ]
    },
    {
      "cell_type": "markdown",
      "source": [
        "Thus, the data is a rank-3 tensor of 8-bit integers: \n",
        "precisely, an array of 60,000 matrices of 28*28 integers. each matrix is a grayscale image, with coefficients between 0 and 255."
      ],
      "metadata": {
        "id": "1ep4E6fbhfiN"
      }
    },
    {
      "cell_type": "code",
      "source": [
        "#Displaying the Fifth Digit using matplotlip\n",
        "digit5 = train_images[5]\n",
        "import matplotlib.pyplot as plt\n",
        "plt.imshow(digit5, cmap=plt.cm.binary)\n",
        "plt.show()"
      ],
      "metadata": {
        "colab": {
          "base_uri": "https://localhost:8080/",
          "height": 265
        },
        "id": "yvHUTOYrh56z",
        "outputId": "5e6ff8f5-cb9c-4aea-99ba-db6185575fb8"
      },
      "execution_count": 32,
      "outputs": [
        {
          "output_type": "display_data",
          "data": {
            "text/plain": [
              "<Figure size 432x288 with 1 Axes>"
            ],
            "image/png": "[encoded data removed]"
          },
          "metadata": {
            "needs_background": "light"
          }
        }
      ]
    },
    {
      "cell_type": "markdown",
      "source": [
        "Reached Page 40 on the textbook"
      ],
      "metadata": {
        "id": "UMn7Ot3ziyLg"
      }
    },
    {
      "cell_type": "code",
      "source": [
        ""
      ],
      "metadata": {
        "id": "LxnuAjFFjeK_"
      },
      "execution_count": null,
      "outputs": []
    }
  ]
}